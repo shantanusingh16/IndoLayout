{
 "cells": [
  {
   "cell_type": "code",
   "execution_count": 30,
   "id": "700fbc60",
   "metadata": {},
   "outputs": [],
   "source": [
    "import os\n",
    "import sys\n",
    "import numpy as np\n",
    "import pickle\n",
    "import matplotlib.pyplot as plt\n",
    "import regex as re\n",
    "import shutil\n",
    "from shutil import copytree as copy_tree"
   ]
  },
  {
   "cell_type": "code",
   "execution_count": 27,
   "id": "2f4d7e19",
   "metadata": {},
   "outputs": [],
   "source": [
    "pattern = '\\d{4}-(0[1-9]|1[0-2])-(0[1-9]|[12][0-9]|3[01])'\n",
    "p = re.compile(pattern)"
   ]
  },
  {
   "cell_type": "code",
   "execution_count": 2,
   "id": "343363b6",
   "metadata": {},
   "outputs": [
    {
     "name": "stdout",
     "output_type": "stream",
     "text": [
      "['ans_rgb', 'occant_rgb', 'occant_rgbd', 'occant_maskeddepth', 'postattn_ckdepth', 'basic_transformer', 'occant_chandrakarbev', 'occant_vo_maskeddepth', 'basictransformer_wboundary', 'occant_chandrakardepth', 'crossview', 'occant_depthraw', 'preattn_ckdepth']\n"
     ]
    }
   ],
   "source": [
    "exp_dir = '/scratch/shantanu/exps_15022022'\n",
    "print(os.listdir(exp_dir))"
   ]
  },
  {
   "cell_type": "code",
   "execution_count": 8,
   "id": "0f6eaabe",
   "metadata": {},
   "outputs": [],
   "source": [
    "exps = ['postattn_ckdepth', 'basic_transformer', 'occant_chandrakarbev', \n",
    "        'occant_vo_maskeddepth', 'basictransformer_wboundary', 'occant_chandrakardepth', \n",
    "        'crossview', 'occant_depthraw', 'preattn_ckdepth'] #os.listdir(exp_dir)"
   ]
  },
  {
   "cell_type": "code",
   "execution_count": 9,
   "id": "b15d65ae",
   "metadata": {},
   "outputs": [],
   "source": [
    "backup_dir = '/scratch/shantanu/exps_15Feb22_backup'\n",
    "os.makedirs(backup_dir, exist_ok=True)"
   ]
  },
  {
   "cell_type": "code",
   "execution_count": 10,
   "id": "b80e3b08",
   "metadata": {},
   "outputs": [],
   "source": [
    "backup_weight_range = 3 # number of weights to backup"
   ]
  },
  {
   "cell_type": "code",
   "execution_count": 31,
   "id": "0362aaac",
   "metadata": {},
   "outputs": [],
   "source": [
    "def backup(exp):\n",
    "    log_folder = f'{exp_dir}/{exp}/val/step_logs/'\n",
    "    log_steps = sorted([int(os.path.splitext(x)[0]) for x in \n",
    "                        os.listdir(log_folder)])\n",
    "    val_loss = []\n",
    "    for step in log_steps:\n",
    "        log = np.load(os.path.join(f'{exp_dir}/{exp}/val/step_logs/{step}.pkl'), allow_pickle=True)\n",
    "        val_loss.append(log['loss'])\n",
    "\n",
    "    sorted_loss_indices = sorted(range(len(val_loss)), key=lambda x: val_loss[x])\n",
    "    if np.any(['weights_' in x for x in os.listdir(f'{exp_dir}/{exp}')]):\n",
    "        sub_dir = ''\n",
    "    else:\n",
    "        sub_dir = 'models'\n",
    "    \n",
    "    weights_dir = os.path.join(exp, sub_dir)\n",
    "    \n",
    "    weight_folders = sorted([x for x in os.listdir(f'{exp_dir}/{weights_dir}') \n",
    "                             if os.path.isdir(f'{exp_dir}/{weights_dir}/{x}') and 'weights_' in x], \n",
    "                            key=lambda x: int(x.split('_')[-1]))\n",
    "    \n",
    "    if os.path.exists(os.path.join(backup_dir, exp)):\n",
    "        shutil.rmtree(os.path.join(backup_dir, exp))\n",
    "    os.makedirs(os.path.join(backup_dir, exp))\n",
    "\n",
    "    for idx in range(backup_weight_range):\n",
    "        tgt_weight_folder = weight_folders[sorted_loss_indices[idx]]\n",
    "        copy_tree(os.path.join(exp_dir, weights_dir, tgt_weight_folder),\n",
    "                 os.path.join(backup_dir, weights_dir, f'{idx}_{tgt_weight_folder}'))\n",
    "        \n",
    "    \n",
    "    copy_tree(os.path.join(exp_dir, weights_dir, weight_folders[-1]), \n",
    "              os.path.join(backup_dir, weights_dir, f'last_{weight_folders[-1]}'))\n",
    "\n",
    "    if os.path.exists(os.path.join(exp_dir, exp, 'train')):\n",
    "        copy_tree(os.path.join(exp_dir, exp, 'train'), os.path.join(backup_dir, exp, 'train'))\n",
    "    \n",
    "    for folder in os.listdir(os.path.join(exp_dir, exp)):\n",
    "        if re.match(p, folder) is not None:\n",
    "            copy_tree(os.path.join(exp_dir, exp, folder), os.path.join(backup_dir, exp, folder))\n",
    "        \n",
    "    copy_tree(os.path.join(exp_dir, exp, 'val'), os.path.join(backup_dir, exp, 'val'))"
   ]
  },
  {
   "cell_type": "code",
   "execution_count": 32,
   "id": "10bba1ee",
   "metadata": {},
   "outputs": [
    {
     "name": "stdout",
     "output_type": "stream",
     "text": [
      "postattn_ckdepth\n",
      "basic_transformer\n",
      "occant_chandrakarbev\n",
      "occant_vo_maskeddepth\n",
      "basictransformer_wboundary\n",
      "occant_chandrakardepth\n",
      "crossview\n",
      "occant_depthraw\n",
      "preattn_ckdepth\n"
     ]
    }
   ],
   "source": [
    "for exp in exps:\n",
    "    print(exp)\n",
    "    backup(exp)"
   ]
  },
  {
   "cell_type": "code",
   "execution_count": null,
   "id": "45a306d7",
   "metadata": {},
   "outputs": [],
   "source": []
  }
 ],
 "metadata": {
  "kernelspec": {
   "display_name": "py37",
   "language": "python",
   "name": "py37"
  },
  "language_info": {
   "codemirror_mode": {
    "name": "ipython",
    "version": 3
   },
   "file_extension": ".py",
   "mimetype": "text/x-python",
   "name": "python",
   "nbconvert_exporter": "python",
   "pygments_lexer": "ipython3",
   "version": "3.7.10"
  }
 },
 "nbformat": 4,
 "nbformat_minor": 5
}
