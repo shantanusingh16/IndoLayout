{
 "cells": [
  {
   "cell_type": "code",
   "execution_count": 4,
   "id": "af879fff",
   "metadata": {},
   "outputs": [],
   "source": [
    "import numpy as np\n",
    "import torch\n",
    "import matplotlib.pyplot as plt"
   ]
  },
  {
   "cell_type": "code",
   "execution_count": 62,
   "id": "4795eb1c",
   "metadata": {},
   "outputs": [],
   "source": [
    "a = np.random.random((8, 8))\n",
    "# a = np.ones((8, 8))"
   ]
  },
  {
   "cell_type": "code",
   "execution_count": 63,
   "id": "47963156",
   "metadata": {},
   "outputs": [
    {
     "data": {
      "text/plain": [
       "<matplotlib.image.AxesImage at 0x7fb3d7c06700>"
      ]
     },
     "execution_count": 63,
     "metadata": {},
     "output_type": "execute_result"
    },
    {
     "data": {
      "image/png": "[encoded data removed]",
      "text/plain": [
       "<Figure size 432x288 with 1 Axes>"
      ]
     },
     "metadata": {
      "needs_background": "light"
     },
     "output_type": "display_data"
    }
   ],
   "source": [
    "plt.imshow(a, cmap='hot', interpolation='nearest')"
   ]
  },
  {
   "cell_type": "code",
   "execution_count": 64,
   "id": "7a6d3416",
   "metadata": {},
   "outputs": [],
   "source": [
    "bn2d = torch.nn.BatchNorm2d(1, affine=False, track_running_stats=False, eps=0)"
   ]
  },
  {
   "cell_type": "code",
   "execution_count": 65,
   "id": "b66e9244",
   "metadata": {},
   "outputs": [
    {
     "data": {
      "text/plain": [
       "array([[0.23923626, 0.08278552, 0.06686585, 0.3768633 , 0.75807642,\n",
       "        0.3711898 , 0.2000953 , 0.29997366],\n",
       "       [0.91907587, 0.61420945, 0.52768112, 0.45438298, 0.24113719,\n",
       "        0.97778859, 0.69592707, 0.56614419],\n",
       "       [0.16419065, 0.28241673, 0.64836671, 0.17797357, 0.91474408,\n",
       "        0.65944805, 0.02949645, 0.46898455],\n",
       "       [0.63060907, 0.94093338, 0.81400664, 0.23482335, 0.86389789,\n",
       "        0.95459257, 0.53233171, 0.03371504],\n",
       "       [0.31119188, 0.0097418 , 0.51212236, 0.50928766, 0.15411129,\n",
       "        0.71281778, 0.28358416, 0.70487065],\n",
       "       [0.44965437, 0.5032561 , 0.75677868, 0.15242491, 0.17812471,\n",
       "        0.61152906, 0.48628807, 0.18645122],\n",
       "       [0.35382755, 0.16576671, 0.58904143, 0.7151021 , 0.42323467,\n",
       "        0.59514905, 0.1302145 , 0.83952494],\n",
       "       [0.56901638, 0.61746951, 0.96347543, 0.44822076, 0.09766201,\n",
       "        0.85310779, 0.26789397, 0.74426188]])"
      ]
     },
     "execution_count": 65,
     "metadata": {},
     "output_type": "execute_result"
    }
   ],
   "source": [
    "a"
   ]
  },
  {
   "cell_type": "code",
   "execution_count": 66,
   "id": "61fd0352",
   "metadata": {},
   "outputs": [
    {
     "data": {
      "text/plain": [
       "array([[-0.87203604, -1.4417567 , -1.4997287 , -0.37086254,  1.0173379 ,\n",
       "        -0.39152277, -1.0145692 , -0.6508587 ],\n",
       "       [ 1.6036227 ,  0.49344152,  0.17834559, -0.088572  , -0.86511374,\n",
       "         1.817427  ,  0.79101896,  0.3184101 ],\n",
       "       [-1.1453172 , -0.7147929 ,  0.61782616, -1.0951262 ,  1.5878484 ,\n",
       "         0.6581792 , -1.6358106 , -0.03539993],\n",
       "       [ 0.5531613 ,  1.6832178 ,  1.2210096 , -0.8881058 ,  1.4026902 ,\n",
       "         1.7329581 ,  0.19528088, -1.6204485 ],\n",
       "       [-0.6100072 , -1.7077479 ,  0.12168799,  0.11136521, -1.1820215 ,\n",
       "         0.852527  , -0.7105417 ,  0.82358724],\n",
       "       [-0.1057914 ,  0.08940103,  1.012612  , -1.1881624 , -1.0945758 ,\n",
       "         0.4836807 ,  0.02761144, -1.0642545 ],\n",
       "       [-0.45474803, -1.1395779 ,  0.4017912 ,  0.8608453 , -0.20199963,\n",
       "         0.42403233, -1.2690424 ,  1.3139353 ],\n",
       "       [ 0.32886943,  0.505313  ,  1.7653052 , -0.11101195, -1.3875835 ,\n",
       "         1.3633978 , -0.767678  ,  0.96703166]], dtype=float32)"
      ]
     },
     "execution_count": 66,
     "metadata": {},
     "output_type": "execute_result"
    }
   ],
   "source": [
    "a_tensor = torch.from_numpy(a.reshape((1,1,8,8))).float()\n",
    "a_normalized = bn2d(a_tensor).detach().numpy().reshape(8,8)\n",
    "a_normalized"
   ]
  },
  {
   "cell_type": "code",
   "execution_count": 67,
   "id": "e5e866dc",
   "metadata": {},
   "outputs": [
    {
     "data": {
      "text/plain": [
       "<matplotlib.image.AxesImage at 0x7fb3d7c3dbe0>"
      ]
     },
     "execution_count": 67,
     "metadata": {},
     "output_type": "execute_result"
    },
    {
     "data": {
      "image/png": "[encoded data removed]",
      "text/plain": [
       "<Figure size 432x288 with 1 Axes>"
      ]
     },
     "metadata": {
      "needs_background": "light"
     },
     "output_type": "display_data"
    }
   ],
   "source": [
    "plt.imshow(a_normalized, cmap='hot', interpolation='nearest')"
   ]
  },
  {
   "cell_type": "code",
   "execution_count": 68,
   "id": "1969af49",
   "metadata": {},
   "outputs": [],
   "source": [
    "m = np.mean(a)\n",
    "s = np.std(a)\n",
    "\n",
    "a_nm = (a - m)/s"
   ]
  },
  {
   "cell_type": "code",
   "execution_count": 69,
   "id": "7fd4050c",
   "metadata": {},
   "outputs": [
    {
     "data": {
      "text/plain": [
       "9.290815561335819e-08"
      ]
     },
     "execution_count": 69,
     "metadata": {},
     "output_type": "execute_result"
    }
   ],
   "source": [
    "np.max(a_nm - a_normalized)"
   ]
  },
  {
   "cell_type": "code",
   "execution_count": null,
   "id": "d5a62e59",
   "metadata": {},
   "outputs": [],
   "source": []
  }
 ],
 "metadata": {
  "kernelspec": {
   "display_name": "Python (habitat)",
   "language": "python",
   "name": "habitat"
  },
  "language_info": {
   "codemirror_mode": {
    "name": "ipython",
    "version": 3
   },
   "file_extension": ".py",
   "mimetype": "text/x-python",
   "name": "python",
   "nbconvert_exporter": "python",
   "pygments_lexer": "ipython3",
   "version": "3.8.3"
  }
 },
 "nbformat": 4,
 "nbformat_minor": 5
}
