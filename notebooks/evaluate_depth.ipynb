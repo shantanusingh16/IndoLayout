{
 "cells": [
  {
   "cell_type": "code",
   "execution_count": 4,
   "id": "8c7c4540",
   "metadata": {},
   "outputs": [],
   "source": [
    "import os\n",
    "import sys\n",
    "import numpy as np\n",
    "import PIL.Image as pil \n",
    "import matplotlib.pyplot as plt\n",
    "from multiprocessing import Pool\n",
    "\n",
    "PROJ_DIR = os.path.dirname(os.path.abspath('.'))\n",
    "if PROJ_DIR not in sys.path:\n",
    "    sys.path.append(PROJ_DIR)"
   ]
  },
  {
   "cell_type": "code",
   "execution_count": 2,
   "id": "4c1d1641",
   "metadata": {},
   "outputs": [],
   "source": [
    "def compute_errors(gt, pred, mask=None):\n",
    "    \"\"\"Computation of error metrics between predicted and ground truth depths\n",
    "    \"\"\"\n",
    "    if mask is None:\n",
    "        mask = np.ones_like(gt) == 1\n",
    "        \n",
    "    gt = gt[mask]\n",
    "    pred = pred[mask]\n",
    "        \n",
    "    thresh = np.maximum((gt / pred), (pred / gt))\n",
    "    a1 = (thresh < 1.25     ).mean()\n",
    "    a2 = (thresh < 1.25 ** 2).mean()\n",
    "    a3 = (thresh < 1.25 ** 3).mean()\n",
    "\n",
    "    rmse = (gt - pred) ** 2\n",
    "    rmse = np.sqrt(rmse.mean())\n",
    "\n",
    "    rmse_log = (np.log(gt) - np.log(pred)) ** 2\n",
    "    rmse_log = np.sqrt(rmse_log.mean())\n",
    "\n",
    "    abs_rel = np.mean(np.abs(gt - pred) / gt)\n",
    "\n",
    "    sq_rel = np.mean(((gt - pred) ** 2) / gt)\n",
    "\n",
    "    return abs_rel, sq_rel, rmse, rmse_log, a1, a2, a3"
   ]
  },
  {
   "cell_type": "code",
   "execution_count": null,
   "id": "176b677f",
   "metadata": {},
   "outputs": [],
   "source": [
    "model_output = dict()\n",
    "model_output[\"SGBM\"] = '/scratch/shantanu.singh/bev_models/output/occ_ant/{}/{}.png'\n",
    "model_output[\"Anynet SGBM\"] = '/scratch/shantanu.singh/bev_models/output/mb_-_bsim/dump/0/{}/0/left_bevpred/{}.png'\n",
    "model_output[\"Anynet GT\"] = '/scratch/shantanu.singh/bev_models/output/mb_dgt_bsim/dump/0/{}/0/left_bevpred/{}.png'"
   ]
  },
  {
   "cell_type": "code",
   "execution_count": null,
   "id": "2e416eb0",
   "metadata": {},
   "outputs": [],
   "source": [
    "gt_rgb = '/scratch/shantanu.singh/HabitatGibson/data/{}/0/left_rgb/{}.jpg'\n",
    "gt_depth = '/scratch/shantanu.singh/HabitatGibson/data/{}/0/left_depth/{}.png'"
   ]
  },
  {
   "cell_type": "code",
   "execution_count": 5,
   "id": "94a72c60",
   "metadata": {},
   "outputs": [
    {
     "data": {
      "text/plain": [
       "['Darden 1', 'Darden 2', 'Darden 3', 'Darden 4', 'Darden 5']"
      ]
     },
     "execution_count": 5,
     "metadata": {},
     "output_type": "execute_result"
    }
   ],
   "source": [
    "val_split_file = '../splits/gibson/gibson_val_depth.txt'\n",
    "with open(val_split_file, 'r') as f:\n",
    "    val_fps = f.read().splitlines()\n",
    "    \n",
    "val_fps[:5]"
   ]
  },
  {
   "cell_type": "code",
   "execution_count": null,
   "id": "7917eed6",
   "metadata": {},
   "outputs": [],
   "source": [
    "model_scores = {}\n",
    "\n",
    "for filepath in eval_filepaths:\n",
    "    folder, fileidx = filepath.split()\n",
    "\n",
    "    gt_path = gt_depth.format(folder, fileidx)\n",
    "    gt = np.array(pil.open(gt_path), dtype=np.float32)/6553.5 + 1e-6\n",
    "\n",
    "\n",
    "    for modelname in model_output:\n",
    "        \n",
    "        pred_path = model_output[modelname].format(folder, fileidx)\n",
    "        pred = pil.open(pred_path)\n",
    "        \n",
    "        if model_name in ['SGBM']:\n",
    "            pred = np.array(pred, dtype=np.float32)/1000.0 + 1e-6\n",
    "\n",
    "        median_scale = np.median(gt) / np.median(pred)\n",
    "        scaled_pred = pred * median_scale\n",
    "\n",
    "        mask = None\n",
    "\n",
    "    scores.append(compute_errors(gt, scaled_pred, mask))"
   ]
  }
 ],
 "metadata": {
  "kernelspec": {
   "display_name": "Python 3 (ipykernel)",
   "language": "python",
   "name": "python3"
  },
  "language_info": {
   "codemirror_mode": {
    "name": "ipython",
    "version": 3
   },
   "file_extension": ".py",
   "mimetype": "text/x-python",
   "name": "python",
   "nbconvert_exporter": "python",
   "pygments_lexer": "ipython3",
   "version": "3.7.10"
  }
 },
 "nbformat": 4,
 "nbformat_minor": 5
}
