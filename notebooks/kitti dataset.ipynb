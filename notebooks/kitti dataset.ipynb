{
 "cells": [
  {
   "cell_type": "code",
   "execution_count": 60,
   "id": "0e69677c",
   "metadata": {},
   "outputs": [],
   "source": [
    "import os\n",
    "import numpy as np\n",
    "import matplotlib.pyplot as plt\n",
    "import cv2\n",
    "import sys\n",
    "import shutil\n",
    "\n",
    "\n",
    "if '/home/shantanu.singh/indoor-layout-estimation' not in sys.path:\n",
    "    sys.path.append('/home/shantanu.singh/indoor-layout-estimation')"
   ]
  },
  {
   "cell_type": "code",
   "execution_count": 29,
   "id": "9e60a298",
   "metadata": {},
   "outputs": [
    {
     "data": {
      "text/plain": [
       "{'00': ['2011_10_03_drive_0027', 0, 4540],\n",
       " '01': ['2011_10_03_drive_0042', 0, 1100],\n",
       " '02': ['2011_10_03_drive_0034', 0, 4660],\n",
       " '03': ['2011_09_26_drive_0067', 0, 800],\n",
       " '04': ['2011_09_30_drive_0016', 0, 270],\n",
       " '05': ['2011_09_30_drive_0018', 0, 2760],\n",
       " '06': ['2011_09_30_drive_0020', 0, 1100],\n",
       " '07': ['2011_09_30_drive_0027', 0, 1100],\n",
       " '08': ['2011_09_30_drive_0028', 1100, 5170],\n",
       " '09': ['2011_09_30_drive_0033', 0, 1590],\n",
       " '10': ['2011_09_30_drive_0034', 0, 1200]}"
      ]
     },
     "execution_count": 29,
     "metadata": {},
     "output_type": "execute_result"
    }
   ],
   "source": [
    "kitti_odom_to_raw_map = '''00: 2011_10_03_drive_0027 000000 004540\n",
    "01: 2011_10_03_drive_0042 000000 001100\n",
    "02: 2011_10_03_drive_0034 000000 004660\n",
    "03: 2011_09_26_drive_0067 000000 000800\n",
    "04: 2011_09_30_drive_0016 000000 000270\n",
    "05: 2011_09_30_drive_0018 000000 002760\n",
    "06: 2011_09_30_drive_0020 000000 001100\n",
    "07: 2011_09_30_drive_0027 000000 001100\n",
    "08: 2011_09_30_drive_0028 001100 005170\n",
    "09: 2011_09_30_drive_0033 000000 001590\n",
    "10: 2011_09_30_drive_0034 000000 001200'''\n",
    "\n",
    "scene_rows = kitti_odom_to_raw_map.split('\\n')\n",
    "scene_map = {}\n",
    "for idx in range(len(scene_rows)):\n",
    "    row_data = scene_rows[idx].split()\n",
    "    scene_map[row_data[0][:2]] = [row_data[1], int(row_data[2]), int(row_data[3])]\n",
    "    \n",
    "scene_map"
   ]
  },
  {
   "cell_type": "code",
   "execution_count": 24,
   "id": "6c1952bf",
   "metadata": {},
   "outputs": [
    {
     "data": {
      "text/plain": [
       "{'00': '2011_10_03_drive_0027_sync/proj_depth/groundtruth',\n",
       " '01': '2011_10_03_drive_0042_sync/proj_depth/groundtruth',\n",
       " '02': '2011_10_03_drive_0034_sync/proj_depth/groundtruth',\n",
       " '03': '2011_09_26_drive_0067_sync/proj_depth/groundtruth',\n",
       " '04': '2011_09_30_drive_0016_sync/proj_depth/groundtruth',\n",
       " '05': '2011_09_30_drive_0018_sync/proj_depth/groundtruth',\n",
       " '06': '2011_09_30_drive_0020_sync/proj_depth/groundtruth',\n",
       " '07': '2011_09_30_drive_0027_sync/proj_depth/groundtruth',\n",
       " '08': '2011_09_30_drive_0028_sync/proj_depth/groundtruth',\n",
       " '09': '2011_09_30_drive_0033_sync/proj_depth/groundtruth',\n",
       " '10': '2011_09_30_drive_0034_sync/proj_depth/groundtruth'}"
      ]
     },
     "execution_count": 24,
     "metadata": {},
     "output_type": "execute_result"
    }
   ],
   "source": [
    "dict([(k, os.path.join(v[0] + '_sync', 'proj_depth', 'groundtruth')) for k,v in scene_map.items()])"
   ]
  },
  {
   "cell_type": "code",
   "execution_count": 25,
   "id": "3857d48c",
   "metadata": {},
   "outputs": [
    {
     "ename": "FileNotFoundError",
     "evalue": "[Errno 2] No such file or directory: '/scratch/shantanu.singh/kitti'",
     "output_type": "error",
     "traceback": [
      "\u001b[0;31m---------------------------------------------------------------------------\u001b[0m",
      "\u001b[0;31mFileNotFoundError\u001b[0m                         Traceback (most recent call last)",
      "\u001b[0;32m/tmp/ipykernel_21603/460344485.py\u001b[0m in \u001b[0;36m<module>\u001b[0;34m\u001b[0m\n\u001b[1;32m      1\u001b[0m \u001b[0mroot_dir\u001b[0m \u001b[0;34m=\u001b[0m \u001b[0;34m'/scratch/shantanu.singh/kitti'\u001b[0m\u001b[0;34m\u001b[0m\u001b[0;34m\u001b[0m\u001b[0m\n\u001b[0;32m----> 2\u001b[0;31m \u001b[0mos\u001b[0m\u001b[0;34m.\u001b[0m\u001b[0mlistdir\u001b[0m\u001b[0;34m(\u001b[0m\u001b[0mroot_dir\u001b[0m\u001b[0;34m)\u001b[0m\u001b[0;34m\u001b[0m\u001b[0;34m\u001b[0m\u001b[0m\n\u001b[0m",
      "\u001b[0;31mFileNotFoundError\u001b[0m: [Errno 2] No such file or directory: '/scratch/shantanu.singh/kitti'"
     ]
    }
   ],
   "source": [
    "root_dir = '/scratch/shantanu.singh/kitti'\n",
    "os.listdir(root_dir)"
   ]
  },
  {
   "cell_type": "code",
   "execution_count": 5,
   "id": "c03f0106",
   "metadata": {},
   "outputs": [
    {
     "data": {
      "text/plain": [
       "['train', 'val', 'data_depth_annotated.zip']"
      ]
     },
     "execution_count": 5,
     "metadata": {},
     "output_type": "execute_result"
    }
   ],
   "source": [
    "depth_dir = os.path.join(root_dir, 'kitti_depth')\n",
    "os.listdir(depth_dir)"
   ]
  },
  {
   "cell_type": "code",
   "execution_count": 6,
   "id": "52dbdb78",
   "metadata": {},
   "outputs": [
    {
     "data": {
      "text/plain": [
       "['0000000394.png',\n",
       " '0000004207.png',\n",
       " '0000003875.png',\n",
       " '0000001844.png',\n",
       " '0000003771.png']"
      ]
     },
     "execution_count": 6,
     "metadata": {},
     "output_type": "execute_result"
    }
   ],
   "source": [
    "scene_dir = os.path.join(depth_dir, 'train', scene_map['00'][0] + '_sync', 'proj_depth', 'groundtruth', 'image_02')\n",
    "os.listdir(scene_dir)[:5]"
   ]
  },
  {
   "cell_type": "code",
   "execution_count": 7,
   "id": "7a1b4261",
   "metadata": {},
   "outputs": [
    {
     "name": "stdout",
     "output_type": "stream",
     "text": [
      "03 2011_09_26_drive_0067_sync\n",
      "04 2011_09_30_drive_0016_sync\n"
     ]
    }
   ],
   "source": [
    "train_scenes = os.listdir(os.path.join(depth_dir, 'train'))\n",
    "for scene in scene_map:\n",
    "    scene_dir = scene_map[scene][0] + '_sync'\n",
    "    if scene_dir not in train_scenes:\n",
    "        print(scene, scene_dir)"
   ]
  },
  {
   "cell_type": "code",
   "execution_count": 26,
   "id": "64b9ce5c",
   "metadata": {},
   "outputs": [],
   "source": [
    "del scene_map['03']\n",
    "del scene_map['04']"
   ]
  },
  {
   "cell_type": "code",
   "execution_count": 9,
   "id": "56882cf4",
   "metadata": {},
   "outputs": [],
   "source": [
    "color_dir = os.path.join(root_dir, 'dataset', 'sequences')"
   ]
  },
  {
   "cell_type": "code",
   "execution_count": 10,
   "id": "fb2c1c30",
   "metadata": {},
   "outputs": [
    {
     "data": {
      "text/plain": [
       "['000274.png', '000057.png', '000985.png', '000200.png', '000418.png']"
      ]
     },
     "execution_count": 10,
     "metadata": {},
     "output_type": "execute_result"
    }
   ],
   "source": [
    "os.listdir(os.path.join(root_dir, 'dataset', 'sequences', '01', 'image_2'))[:5]"
   ]
  },
  {
   "cell_type": "code",
   "execution_count": 11,
   "id": "8f8d0388",
   "metadata": {},
   "outputs": [
    {
     "data": {
      "image/png": "[encoded data removed]",
      "text/plain": [
       "<Figure size 720x432 with 2 Axes>"
      ]
     },
     "metadata": {
      "needs_background": "light"
     },
     "output_type": "display_data"
    }
   ],
   "source": [
    "fileidx = '000985'\n",
    "img_path = os.path.join(root_dir, 'dataset', 'sequences', '01', '{}', f'{fileidx}.png')\n",
    "\n",
    "fig,ax = plt.subplots(ncols=2, figsize=(10, 6))\n",
    "ax[0].imshow(cv2.imread(img_path.format('image_2'), -1))\n",
    "ax[1].imshow(cv2.imread(img_path.format('image_3'), -1))\n",
    "plt.show()"
   ]
  },
  {
   "cell_type": "code",
   "execution_count": 12,
   "id": "9d2b4f53",
   "metadata": {},
   "outputs": [
    {
     "data": {
      "text/plain": [
       "['06.txt',\n",
       " '01.txt',\n",
       " '00.txt',\n",
       " '03.txt',\n",
       " '05.txt',\n",
       " '07.txt',\n",
       " '10.txt',\n",
       " '02.txt',\n",
       " '09.txt',\n",
       " '08.txt',\n",
       " '04.txt']"
      ]
     },
     "execution_count": 12,
     "metadata": {},
     "output_type": "execute_result"
    }
   ],
   "source": [
    "os.listdir(os.path.join(root_dir, 'dataset', 'poses'))"
   ]
  },
  {
   "cell_type": "code",
   "execution_count": 13,
   "id": "afda5454",
   "metadata": {},
   "outputs": [
    {
     "data": {
      "text/plain": [
       "(1101, 4, 4)"
      ]
     },
     "execution_count": 13,
     "metadata": {},
     "output_type": "execute_result"
    }
   ],
   "source": [
    "# Read and parse the poses\n",
    "pose_file = os.path.join(root_dir, 'dataset', 'poses', '01.txt')\n",
    "poses = []\n",
    "with open(pose_file, 'r') as f:\n",
    "    lines = f.readlines()\n",
    "\n",
    "    for line in lines:\n",
    "        T_w_cam0 = np.fromstring(line, dtype=float, sep=' ')\n",
    "        T_w_cam0 = T_w_cam0.reshape(3, 4)\n",
    "        T_w_cam0 = np.vstack((T_w_cam0, [0, 0, 0, 1]))\n",
    "        poses.append(T_w_cam0)\n",
    "            \n",
    "poses = np.array(poses)\n",
    "poses.shape"
   ]
  },
  {
   "cell_type": "code",
   "execution_count": 14,
   "id": "65fcf248",
   "metadata": {},
   "outputs": [
    {
     "data": {
      "text/plain": [
       "array([[ 0.8965559 , -0.01307765,  0.4427376 ,  2.488685  ],\n",
       "       [ 0.0234179 ,  0.9995655 , -0.01789659, -0.3309237 ],\n",
       "       [-0.4423112 ,  0.02641328,  0.8964725 ,  9.527392  ],\n",
       "       [ 0.        ,  0.        ,  0.        ,  1.        ]])"
      ]
     },
     "execution_count": 14,
     "metadata": {},
     "output_type": "execute_result"
    }
   ],
   "source": [
    "poses[10]"
   ]
  },
  {
   "cell_type": "code",
   "execution_count": 15,
   "id": "3f466d9c",
   "metadata": {},
   "outputs": [],
   "source": [
    "def read_calib_file(filepath):\n",
    "    \"\"\"Read in a calibration file and parse into a dictionary.\"\"\"\n",
    "    data = {}\n",
    "\n",
    "    with open(filepath, 'r') as f:\n",
    "        for line in f.readlines():\n",
    "            key, value = line.split(':', 1)\n",
    "            # The only non-float values in these files are dates, which\n",
    "            # we don't care about anyway\n",
    "            try:\n",
    "                data[key] = np.array([float(x) for x in value.split()])\n",
    "            except ValueError:\n",
    "                pass\n",
    "\n",
    "    return data"
   ]
  },
  {
   "cell_type": "code",
   "execution_count": 16,
   "id": "84059feb",
   "metadata": {},
   "outputs": [
    {
     "data": {
      "text/plain": [
       "['image_3', 'image_2', 'calib.txt', 'times.txt']"
      ]
     },
     "execution_count": 16,
     "metadata": {},
     "output_type": "execute_result"
    }
   ],
   "source": [
    "os.listdir(os.path.join(root_dir, 'dataset', 'sequences', '00'))"
   ]
  },
  {
   "cell_type": "code",
   "execution_count": 17,
   "id": "91cb243b",
   "metadata": {},
   "outputs": [
    {
     "data": {
      "text/plain": [
       "{'00': ['2011_10_03_drive_0027', 0, 4540],\n",
       " '01': ['2011_10_03_drive_0042', 0, 1100],\n",
       " '02': ['2011_10_03_drive_0034', 0, 4660],\n",
       " '05': ['2011_09_30_drive_0018', 0, 2760],\n",
       " '06': ['2011_09_30_drive_0020', 0, 1100],\n",
       " '07': ['2011_09_30_drive_0027', 0, 1100],\n",
       " '08': ['2011_09_30_drive_0028', 1100, 5170],\n",
       " '09': ['2011_09_30_drive_0033', 0, 1590],\n",
       " '10': ['2011_09_30_drive_0034', 0, 1200]}"
      ]
     },
     "execution_count": 17,
     "metadata": {},
     "output_type": "execute_result"
    }
   ],
   "source": [
    "scene_map"
   ]
  },
  {
   "cell_type": "code",
   "execution_count": 23,
   "id": "d0611725",
   "metadata": {},
   "outputs": [],
   "source": [
    "baseline = []\n",
    "K = []\n",
    "t2 = []\n",
    "t3 = []\n",
    "for scene in scene_map.keys():\n",
    "    calib = read_calib_file(os.path.join(root_dir, 'dataset', 'sequences', scene, 'calib.txt'))\n",
    "    P0 = calib['P0'].reshape((3,4))\n",
    "    K_inv = np.linalg.inv(P0[:3, :3])\n",
    "    T0C = K_inv @ P0\n",
    "    T0C = np.vstack([T0C, np.array([0, 0, 0, 1])])\n",
    "    TC0 = np.linalg.inv(T0C)\n",
    "    \n",
    "    P2 = calib['P2'].reshape((3,4))\n",
    "    K.append(P2[:3, :3])\n",
    "    K_inv = np.linalg.inv(P2[:3, :3])\n",
    "    T2C = K_inv @ P2\n",
    "    T2C = np.vstack([T2C, np.array([0, 0, 0, 1])])\n",
    "    TC2 = np.linalg.inv(T2C)\n",
    "    t2.append(T2C @ TC0 @ np.array([0,0,0,1]))\n",
    "    \n",
    "\n",
    "    P3 = calib['P3'].reshape((3,4))\n",
    "    K.append(P3[:3, :3])\n",
    "    K_inv = np.linalg.inv(P3[:3, :3])\n",
    "    T3C = K_inv @ P3\n",
    "    T3C = np.vstack([T3C, np.array([0, 0, 0, 1])])\n",
    "    TC3 = np.linalg.inv(T3C)\n",
    "    t3.append(T3C @ TC0 @ np.array([0,0,0,1]))\n",
    "\n",
    "    T32 = T3C @ TC2\n",
    "    baseline.append(T32 @ np.array([0, 0, 0, 1]))"
   ]
  },
  {
   "cell_type": "code",
   "execution_count": 32,
   "id": "b786bc50",
   "metadata": {},
   "outputs": [
    {
     "data": {
      "text/plain": [
       "array([[ 1.        ,  0.        ,  0.        ,  0.47441838],\n",
       "       [ 0.        ,  1.        ,  0.        , -0.00187031],\n",
       "       [ 0.        ,  0.        ,  1.        , -0.0033185 ],\n",
       "       [ 0.        ,  0.        ,  0.        ,  1.        ]])"
      ]
     },
     "execution_count": 32,
     "metadata": {},
     "output_type": "execute_result"
    }
   ],
   "source": [
    "TC3"
   ]
  },
  {
   "cell_type": "code",
   "execution_count": 30,
   "id": "726a7a37",
   "metadata": {},
   "outputs": [
    {
     "data": {
      "text/plain": [
       "-0.5347296216763723"
      ]
     },
     "execution_count": 30,
     "metadata": {},
     "output_type": "execute_result"
    }
   ],
   "source": [
    "np.mean(np.stack(baseline)[:, 0])"
   ]
  },
  {
   "cell_type": "code",
   "execution_count": 25,
   "id": "9c74cd3a",
   "metadata": {},
   "outputs": [
    {
     "data": {
      "text/plain": [
       "array([[711.0128    ,   0.        , 603.6558    ],\n",
       "       [  0.        , 711.0128    , 183.81216667],\n",
       "       [  0.        ,   0.        ,   1.        ]])"
      ]
     },
     "execution_count": 25,
     "metadata": {},
     "output_type": "execute_result"
    }
   ],
   "source": [
    "np.stack(K).mean(axis=0)"
   ]
  },
  {
   "cell_type": "code",
   "execution_count": 26,
   "id": "1ef07eaa",
   "metadata": {},
   "outputs": [
    {
     "data": {
      "text/plain": [
       "array([ 0.06066658, -0.00133688,  0.0053954 ,  1.        ])"
      ]
     },
     "execution_count": 26,
     "metadata": {},
     "output_type": "execute_result"
    }
   ],
   "source": [
    "np.stack(t2).mean(axis=0)"
   ]
  },
  {
   "cell_type": "code",
   "execution_count": 27,
   "id": "feb1ae42",
   "metadata": {},
   "outputs": [
    {
     "data": {
      "text/plain": [
       "array([-0.47406304,  0.00192326,  0.00385074,  1.        ])"
      ]
     },
     "execution_count": 27,
     "metadata": {},
     "output_type": "execute_result"
    }
   ],
   "source": [
    "np.stack(t3).mean(axis=0)"
   ]
  },
  {
   "cell_type": "code",
   "execution_count": null,
   "id": "7cf21c92",
   "metadata": {},
   "outputs": [],
   "source": []
  },
  {
   "cell_type": "markdown",
   "id": "d291eeb3",
   "metadata": {},
   "source": [
    "# Kitti dataset split"
   ]
  },
  {
   "cell_type": "code",
   "execution_count": 34,
   "id": "e900762a",
   "metadata": {},
   "outputs": [
    {
     "data": {
      "text/plain": [
       "['results',\n",
       " 'data_depth_annotated.zip',\n",
       " 'odometry',\n",
       " 'data_odometry_poses.zip',\n",
       " 'dataset',\n",
       " 'data_odometry_color.zip']"
      ]
     },
     "execution_count": 34,
     "metadata": {},
     "output_type": "execute_result"
    }
   ],
   "source": [
    "root_dir = '/scratch/shantanu/kitti'\n",
    "os.listdir(root_dir)"
   ]
  },
  {
   "cell_type": "code",
   "execution_count": 8,
   "id": "8b3ea8a3",
   "metadata": {},
   "outputs": [],
   "source": [
    "odom_to_raw_map = {\n",
    "    '00': '2011_10_03_drive_0027_sync/proj_depth/groundtruth',\n",
    "    '01': '2011_10_03_drive_0042_sync/proj_depth/groundtruth',\n",
    "    '02': '2011_10_03_drive_0034_sync/proj_depth/groundtruth',\n",
    "    '05': '2011_09_30_drive_0018_sync/proj_depth/groundtruth',\n",
    "    '06': '2011_09_30_drive_0020_sync/proj_depth/groundtruth',\n",
    "    '07': '2011_09_30_drive_0027_sync/proj_depth/groundtruth',\n",
    "    '08': '2011_09_30_drive_0028_sync/proj_depth/groundtruth',\n",
    "    '09': '2011_09_30_drive_0033_sync/proj_depth/groundtruth',\n",
    "    '10': '2011_09_30_drive_0034_sync/proj_depth/groundtruth'\n",
    " }"
   ]
  },
  {
   "cell_type": "code",
   "execution_count": 9,
   "id": "8f982d47",
   "metadata": {},
   "outputs": [],
   "source": [
    "# Read and parse the poses\n",
    "def get_poses(scene):\n",
    "    pose_file = os.path.join(root_dir, 'dataset', 'poses', f'{scene}.txt')\n",
    "    poses = []\n",
    "    with open(pose_file, 'r') as f:\n",
    "        lines = f.readlines()\n",
    "\n",
    "        for line in lines:\n",
    "            T_w_cam0 = np.fromstring(line, dtype=float, sep=' ')\n",
    "            T_w_cam0 = T_w_cam0.reshape(3, 4)\n",
    "            T_w_cam0 = np.vstack((T_w_cam0, [0, 0, 0, 1]))\n",
    "            poses.append(T_w_cam0)\n",
    "\n",
    "    poses = np.array(poses)\n",
    "    return poses    "
   ]
  },
  {
   "cell_type": "code",
   "execution_count": 10,
   "id": "6f43cae5",
   "metadata": {},
   "outputs": [],
   "source": [
    "scene = '00'\n",
    "scene_raw_name, start_idx, end_idx = scene_map[scene]"
   ]
  },
  {
   "cell_type": "code",
   "execution_count": 13,
   "id": "a3f57e1b",
   "metadata": {},
   "outputs": [
    {
     "name": "stdout",
     "output_type": "stream",
     "text": [
      "0\n",
      "/scratch/shantanu/kitti/odometry/train/2011_10_03_drive_0027_sync/proj_depth/groundtruth/image_02/0000000000.png\n",
      "/scratch/shantanu/kitti/odometry/train/2011_10_03_drive_0027_sync/proj_depth/groundtruth/image_02/0000000001.png\n",
      "/scratch/shantanu/kitti/odometry/train/2011_10_03_drive_0027_sync/proj_depth/groundtruth/image_02/0000000002.png\n",
      "/scratch/shantanu/kitti/odometry/train/2011_10_03_drive_0027_sync/proj_depth/groundtruth/image_02/0000000003.png\n",
      "/scratch/shantanu/kitti/odometry/train/2011_10_03_drive_0027_sync/proj_depth/groundtruth/image_02/0000000004.png\n",
      "/scratch/shantanu/kitti/odometry/train/2011_10_03_drive_0027_sync/proj_depth/groundtruth/image_02/0000004539.png\n",
      "/scratch/shantanu/kitti/odometry/train/2011_10_03_drive_0027_sync/proj_depth/groundtruth/image_02/0000004540.png\n"
     ]
    }
   ],
   "source": [
    "color_dir = os.path.join(root_dir, 'dataset', 'sequences')\n",
    "depth_dir = os.path.join(root_dir, 'odometry', 'train')\n",
    "\n",
    "missing_indices = []\n",
    "poses = get_poses(scene)\n",
    "print(len(poses) - end_idx - 1)\n",
    "\n",
    "for fileidx in range(start_idx, end_idx + 1):\n",
    "    img_path = os.path.join(color_dir, scene, 'image_2', '{:06d}.png'.format(fileidx))\n",
    "    if not os.path.exists(img_path):\n",
    "        print(img_path)\n",
    "        missing_indices.append(fileidx)\n",
    "        continue\n",
    "    depth_path = os.path.join(depth_dir, odom_to_raw_map[scene], 'image_02', '{:010d}.png'.format(fileidx))\n",
    "    if not os.path.exists(depth_path):\n",
    "        print(depth_path)\n",
    "        missing_indices.append(fileidx)"
   ]
  },
  {
   "cell_type": "code",
   "execution_count": 58,
   "id": "bd1616f0",
   "metadata": {},
   "outputs": [
    {
     "name": "stdout",
     "output_type": "stream",
     "text": [
      "4532\n"
     ]
    }
   ],
   "source": [
    "invalid_indices = set()\n",
    "for fileidx in range(start_idx, end_idx + 1):\n",
    "    if fileidx -1 in missing_indices:\n",
    "        invalid_indices.add(fileidx)\n",
    "    if fileidx in missing_indices:\n",
    "        invalid_indices.add(fileidx)\n",
    "    if fileidx + 1 in missing_indices:\n",
    "        invalid_indices.add(fileidx)\n",
    "        \n",
    "fp = [f'{scene} {fileidx}\\n' for fileidx in range(start_idx+1, end_idx) if fileidx not in invalid_indices]\n",
    "print(len(fp))"
   ]
  },
  {
   "cell_type": "code",
   "execution_count": 59,
   "id": "3612ea67",
   "metadata": {},
   "outputs": [
    {
     "data": {
      "text/plain": [
       "{0, 1, 2, 3, 4, 5, 4538, 4539, 4540}"
      ]
     },
     "execution_count": 59,
     "metadata": {},
     "output_type": "execute_result"
    }
   ],
   "source": [
    "invalid_indices"
   ]
  },
  {
   "cell_type": "code",
   "execution_count": 60,
   "id": "1b765791",
   "metadata": {},
   "outputs": [
    {
     "data": {
      "text/plain": [
       "[0, 1, 2, 3, 4, 4539, 4540]"
      ]
     },
     "execution_count": 60,
     "metadata": {},
     "output_type": "execute_result"
    }
   ],
   "source": [
    "missing_indices"
   ]
  },
  {
   "cell_type": "code",
   "execution_count": 61,
   "id": "2c13b9f5",
   "metadata": {},
   "outputs": [],
   "source": [
    "split_path = f'../splits/kitti/kitti_{scene}.txt'\n",
    "os.makedirs(os.path.dirname(split_path), exist_ok=True)\n",
    "with open(split_path, 'w') as f:\n",
    "    f.writelines(fp)"
   ]
  },
  {
   "cell_type": "markdown",
   "id": "28747779",
   "metadata": {},
   "source": [
    "#### Port monodepth2's odom split to sclnet"
   ]
  },
  {
   "cell_type": "code",
   "execution_count": 35,
   "id": "1fbca5d5",
   "metadata": {},
   "outputs": [
    {
     "data": {
      "text/plain": [
       "['train_files.txt', 'test_files_09.txt', 'test_files_10.txt', 'val_files.txt']"
      ]
     },
     "execution_count": 35,
     "metadata": {},
     "output_type": "execute_result"
    }
   ],
   "source": [
    "os.listdir('/home/shantanu.singh/monodepth2/splits/odom/')"
   ]
  },
  {
   "cell_type": "code",
   "execution_count": 95,
   "id": "0f08c87f",
   "metadata": {},
   "outputs": [
    {
     "data": {
      "text/plain": [
       "['0 1569 l', '2 1308 l', '0 1518 l', '2 4376 l', '5 2247 l']"
      ]
     },
     "execution_count": 95,
     "metadata": {},
     "output_type": "execute_result"
    }
   ],
   "source": [
    "with open('/home/shantanu.singh/monodepth2/splits/odom/val_files.txt') as f:\n",
    "    monodepth2_odom_fps = f.read().splitlines()\n",
    "    \n",
    "monodepth2_odom_fps[:5]"
   ]
  },
  {
   "cell_type": "code",
   "execution_count": 96,
   "id": "a8d4f624",
   "metadata": {},
   "outputs": [
    {
     "data": {
      "text/plain": [
       "{'0', '1', '2', '3', '4', '5', '6', '7', '8'}"
      ]
     },
     "execution_count": 96,
     "metadata": {},
     "output_type": "execute_result"
    }
   ],
   "source": [
    "md2_scenes = set()\n",
    "for fp in monodepth2_odom_fps:\n",
    "    md2_scenes.add(fp.split()[0])\n",
    "md2_scenes"
   ]
  },
  {
   "cell_type": "code",
   "execution_count": 97,
   "id": "b76c4797",
   "metadata": {},
   "outputs": [
    {
     "data": {
      "text/plain": [
       "(149,)"
      ]
     },
     "execution_count": 97,
     "metadata": {},
     "output_type": "execute_result"
    }
   ],
   "source": [
    "md2_indices = set()\n",
    "for fp in monodepth2_odom_fps:\n",
    "    if fp.split()[0] != '3':\n",
    "        continue\n",
    "    md2_indices.add(int(fp.split()[1]))\n",
    "    \n",
    "np.array(list(md2_indices)).shape"
   ]
  },
  {
   "cell_type": "code",
   "execution_count": 98,
   "id": "798796b5",
   "metadata": {
    "scrolled": true
   },
   "outputs": [],
   "source": [
    "data_path = os.path.join(root_dir, 'dataset', 'sequences')\n",
    "\n",
    "missing_indices = []\n",
    "valid_fps = []\n",
    "\n",
    "for fp in monodepth2_odom_fps:\n",
    "    scene, fileidx, side = fp.split()\n",
    "    scene = '{:02d}'.format(int(scene))\n",
    "    fileidx = int(fileidx)\n",
    "    \n",
    "    img_path = os.path.join(data_path, scene, 'image_2', '{:06d}.png'.format(fileidx))\n",
    "    if not os.path.exists(img_path):\n",
    "        print(img_path)\n",
    "        missing_indices.append(f'{scene} {fileidx}')\n",
    "        continue\n",
    "        \n",
    "    depth_path = os.path.join(data_path, scene, 'velodyne', '{:06d}.bin'.format(fileidx))\n",
    "    if not os.path.exists(depth_path):\n",
    "        print(depth_path)\n",
    "        missing_indices.append(f'{scene} {fileidx}')\n",
    "        continue\n",
    "        \n",
    "    valid_fps.append(f'{scene} {fileidx}\\n')"
   ]
  },
  {
   "cell_type": "code",
   "execution_count": 99,
   "id": "46dda963",
   "metadata": {},
   "outputs": [
    {
     "data": {
      "text/plain": [
       "(4075, 4075)"
      ]
     },
     "execution_count": 99,
     "metadata": {},
     "output_type": "execute_result"
    }
   ],
   "source": [
    "len(valid_fps), len(monodepth2_odom_fps)"
   ]
  },
  {
   "cell_type": "code",
   "execution_count": 100,
   "id": "262d9ec8",
   "metadata": {},
   "outputs": [],
   "source": [
    "with open('../splits/kitti/monodepth2_odom_val.txt', 'w') as f:\n",
    "    f.writelines(valid_fps)"
   ]
  },
  {
   "cell_type": "markdown",
   "id": "be810d59",
   "metadata": {},
   "source": [
    "### Kitti Velodyne to depth"
   ]
  },
  {
   "cell_type": "code",
   "execution_count": 71,
   "id": "eb606e9b",
   "metadata": {},
   "outputs": [],
   "source": [
    "import skimage\n",
    "import skimage.transform\n",
    "from datasets.kitti_utils import generate_depth_map"
   ]
  },
  {
   "cell_type": "code",
   "execution_count": 73,
   "id": "a0a56dce",
   "metadata": {},
   "outputs": [],
   "source": [
    "data_path = '/scratch/shantanu/kitti/dataset/sequences'\n",
    "folder = '02'\n",
    "frame_index = 4079\n",
    "full_res_shape = (1242, 375)"
   ]
  },
  {
   "cell_type": "code",
   "execution_count": 85,
   "id": "92a006c7",
   "metadata": {},
   "outputs": [],
   "source": [
    "calib_path = os.path.join(data_path, folder)\n",
    "\n",
    "velo_filename = os.path.join(\n",
    "    data_path,\n",
    "    folder,\n",
    "    \"velodyne/{:06d}.bin\".format(int(frame_index)))\n",
    "\n",
    "depth_gt = generate_depth_map(calib_path, velo_filename, 2)\n",
    "depth_gt = skimage.transform.resize(\n",
    "    depth_gt, full_res_shape[::-1], order=0, preserve_range=True, mode='constant')"
   ]
  },
  {
   "cell_type": "code",
   "execution_count": 87,
   "id": "f745f03f",
   "metadata": {},
   "outputs": [
    {
     "data": {
      "text/plain": [
       "<matplotlib.image.AxesImage at 0x7f64d4d10ed0>"
      ]
     },
     "execution_count": 87,
     "metadata": {},
     "output_type": "execute_result"
    },
    {
     "data": {
      "image/png": "[encoded data removed]",
      "text/plain": [
       "<Figure size 432x288 with 1 Axes>"
      ]
     },
     "metadata": {
      "needs_background": "light"
     },
     "output_type": "display_data"
    }
   ],
   "source": [
    "plt.imshow(depth_gt, 'gray')"
   ]
  },
  {
   "cell_type": "code",
   "execution_count": null,
   "id": "e62b45a1",
   "metadata": {},
   "outputs": [],
   "source": []
  }
 ],
 "metadata": {
  "kernelspec": {
   "display_name": "Python 3 (ipykernel)",
   "language": "python",
   "name": "python3"
  },
  "language_info": {
   "codemirror_mode": {
    "name": "ipython",
    "version": 3
   },
   "file_extension": ".py",
   "mimetype": "text/x-python",
   "name": "python",
   "nbconvert_exporter": "python",
   "pygments_lexer": "ipython3",
   "version": "3.7.10"
  }
 },
 "nbformat": 4,
 "nbformat_minor": 5
}
