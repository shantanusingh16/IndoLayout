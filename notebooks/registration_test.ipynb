{
 "cells": [
  {
   "cell_type": "code",
   "execution_count": 243,
   "id": "64a31919",
   "metadata": {},
   "outputs": [],
   "source": [
    "import os\n",
    "import numpy as np\n",
    "import quaternion\n",
    "from scipy.spatial.transform import Rotation\n",
    "import matplotlib.pyplot as plt\n",
    "import cv2\n",
    "import open3d as o3d\n",
    "from open3d import JVisualizer"
   ]
  },
  {
   "cell_type": "code",
   "execution_count": 244,
   "id": "9ccdc784",
   "metadata": {},
   "outputs": [],
   "source": [
    "data_dir = '/mnt/storage2/data/tmp'"
   ]
  },
  {
   "cell_type": "code",
   "execution_count": 245,
   "id": "a51ae0a7",
   "metadata": {},
   "outputs": [
    {
     "data": {
      "text/plain": [
       "['oLBMNvg9in8', 'oLBMNvg9in8.zip']"
      ]
     },
     "execution_count": 245,
     "metadata": {},
     "output_type": "execute_result"
    }
   ],
   "source": [
    "os.listdir(data_dir)"
   ]
  },
  {
   "cell_type": "code",
   "execution_count": 246,
   "id": "64f3ab51",
   "metadata": {},
   "outputs": [],
   "source": [
    "scene = 'oLBMNvg9in8'\n",
    "scene_dir = os.path.join(data_dir, scene, '0')"
   ]
  },
  {
   "cell_type": "code",
   "execution_count": 304,
   "id": "cb14769f",
   "metadata": {},
   "outputs": [
    {
     "name": "stdout",
     "output_type": "stream",
     "text": [
      "[0.         9.98240913 0.        ]\n",
      "[ 0.         19.96200092  0.        ]\n",
      "[ 0.         29.94159272  0.        ]\n",
      "[ 0.         39.92118452  0.        ]\n",
      "[ 0.         49.90077632  0.        ]\n",
      "[ 0.         59.88036812  0.        ]\n",
      "[ 0.         69.85995992  0.        ]\n",
      "[ 0.         79.83955172  0.        ]\n",
      "[ 0.         89.81914352  0.        ]\n",
      "[ 0.         99.79873532  0.        ]\n",
      "[  0.         109.77832712   0.        ]\n",
      "[  0.         119.75791892   0.        ]\n",
      "[  0.         129.73751072   0.        ]\n",
      "[  0.         139.71710252   0.        ]\n",
      "[  0.         149.69669432   0.        ]\n",
      "[  0.         159.67628612   0.        ]\n",
      "[  0.         169.65587792   0.        ]\n",
      "[  0.         179.63546972   0.        ]\n",
      "[  0.         179.63546971   0.        ]\n",
      "[  0.         169.64897083   0.        ]\n",
      "[  0.         159.66247195   0.        ]\n",
      "[  0.         149.67597307   0.        ]\n",
      "[  0.         139.68947419   0.        ]\n",
      "[  0.         129.70297532   0.        ]\n",
      "[  0.         119.71647644   0.        ]\n",
      "[  0.         109.72997756   0.        ]\n",
      "[ 0.         99.74347868  0.        ]\n",
      "[ 0.        89.7569798  0.       ]\n",
      "[ 0.         79.77048093  0.        ]\n",
      "[ 0.         69.78398205  0.        ]\n",
      "[ 0.         59.79748317  0.        ]\n",
      "[ 0.         49.81098429  0.        ]\n",
      "[ 0.         39.82448541  0.        ]\n",
      "[ 0.         29.83798654  0.        ]\n",
      "[ 0.         19.85148766  0.        ]\n",
      "[0.         9.86498878 0.        ]\n",
      "[ 0.        -0.1215101  0.       ]\n",
      "[  0.         -10.10800898   0.        ]\n",
      "[  0.         -20.09450785   0.        ]\n",
      "[  0.         -30.08100673   0.        ]\n",
      "[  0.         -40.06750561   0.        ]\n",
      "[  0.         -50.05400449   0.        ]\n",
      "[  0.         -60.04050337   0.        ]\n",
      "[  0.         -70.02700224   0.        ]\n",
      "[  0.         -80.01350112   0.        ]\n",
      "[  0. -90.   0.]\n",
      "[  0. -90.   0.]\n",
      "[  0. -90.   0.]\n",
      "[  0.         -81.71760826   0.        ]\n",
      "[  0.         -81.71760459   0.        ]\n",
      "[  0.         -81.71760459   0.        ]\n",
      "[  0.         -81.71760459   0.        ]\n",
      "[  0.         -72.57622218   0.        ]\n",
      "[  0.         -63.43483976   0.        ]\n",
      "[  0.         -63.43483976   0.        ]\n",
      "[  0.         -54.12302739   0.        ]\n",
      "[  0.         -44.81121502   0.        ]\n",
      "[  0.         -35.49940264   0.        ]\n",
      "[  0.         -26.18759027   0.        ]\n",
      "[  0.        -16.8757779   0.       ]\n",
      "[ 0.         -7.56396552  0.        ]\n",
      "[ 0.        -7.5639657  0.       ]\n",
      "[ 0.        -7.5639657  0.       ]\n",
      "[  0.         -17.36123736   0.        ]\n",
      "[  0.         -27.15850901   0.        ]\n",
      "[  0.         -36.95578066   0.        ]\n",
      "[  0.         -46.75305232   0.        ]\n",
      "[  0.         -56.55032397   0.        ]\n",
      "[  0.         -66.34759563   0.        ]\n",
      "[  0.         -76.14486728   0.        ]\n",
      "[  0.         -85.94213893   0.        ]\n",
      "[  0.         -95.73941059   0.        ]\n",
      "[   0.         -105.53668224    0.        ]\n",
      "[   0.         -115.33395389    0.        ]\n",
      "[   0.         -125.13122555    0.        ]\n",
      "[   0.        -134.9284972    0.       ]\n",
      "[   0.        -134.9284972    0.       ]\n",
      "[   0.         -125.63168431    0.        ]\n",
      "[   0.         -116.33487142    0.        ]\n",
      "[   0.         -107.03805853    0.        ]\n",
      "[  0.         -97.74124564   0.        ]\n",
      "[  0.         -88.44443275   0.        ]\n",
      "[  0.         -79.14761986   0.        ]\n",
      "[  0.         -69.85080698   0.        ]\n",
      "[  0.         -60.55399409   0.        ]\n",
      "[  0.        -51.2571812   0.       ]\n",
      "[  0.         -41.96036831   0.        ]\n",
      "[  0.         -32.66355542   0.        ]\n",
      "[  0.         -23.36674253   0.        ]\n",
      "[  0.         -14.06992964   0.        ]\n",
      "[  0.         -14.06992963   0.        ]\n",
      "[  0.         -14.06992963   0.        ]\n",
      "[  0.         -14.06992963   0.        ]\n",
      "[  0.         -14.06992963   0.        ]\n",
      "[  0.         -14.06992963   0.        ]\n",
      "[ 0.         -5.25414283  0.        ]\n",
      "[0.         3.56164397 0.        ]\n",
      "[ 0.         12.37743078  0.        ]\n",
      "[ 0.         21.19321758  0.        ]\n",
      "[ 0.         30.00900438  0.        ]\n",
      "[ 0.         38.82479118  0.        ]\n",
      "[ 0.         38.82479185  0.        ]\n",
      "[ 0.         38.82479185  0.        ]\n",
      "[ 0.         38.82479185  0.        ]\n",
      "[ 0.         38.82479185  0.        ]\n",
      "[ 0.         38.82479185  0.        ]\n",
      "[ 0.         47.22247058  0.        ]\n",
      "[ 0.         55.62014932  0.        ]\n",
      "[ 0.         64.01782805  0.        ]\n",
      "[ 0.         64.01782468  0.        ]\n",
      "[ 0.         55.96910157  0.        ]\n",
      "[ 0.         47.92037847  0.        ]\n",
      "[ 0.         47.92037969  0.        ]\n",
      "[ 0.         57.64919844  0.        ]\n",
      "[ 0.         67.37801718  0.        ]\n",
      "[ 0.         77.10683593  0.        ]\n",
      "[ 0.       77.106835  0.      ]\n",
      "[ 0.       77.106835  0.      ]\n",
      "[ 0.       77.106835  0.      ]\n",
      "[ 0.       77.106835  0.      ]\n",
      "[ 0.         67.57235337  0.        ]\n",
      "[ 0.         58.03787175  0.        ]\n",
      "[ 0.         48.50339012  0.        ]\n",
      "[ 0.        38.9689085  0.       ]\n",
      "[ 0.         29.43442687  0.        ]\n",
      "[ 0.         19.89994525  0.        ]\n",
      "[ 0.         10.36546363  0.        ]\n",
      "[0.       0.830982 0.      ]\n",
      "[ 0.         -8.70349962  0.        ]\n",
      "[  0.         -18.23798125   0.        ]\n",
      "[  0.         -27.77246287   0.        ]\n",
      "[  0.        -37.3069445   0.       ]\n",
      "[  0.         -46.84142612   0.        ]\n",
      "[  0.         -56.37590774   0.        ]\n",
      "[  0.         -56.37590774   0.        ]\n",
      "[  0.         -56.37590774   0.        ]\n",
      "[  0.         -56.37590774   0.        ]\n",
      "[  0.         -56.37590774   0.        ]\n",
      "[  0.         -56.37590774   0.        ]\n",
      "[  0.         -56.37590774   0.        ]\n",
      "[  0.         -56.37590774   0.        ]\n",
      "[  0.         -56.37590774   0.        ]\n",
      "[  0.         -56.37590774   0.        ]\n",
      "[  0.         -56.37590774   0.        ]\n",
      "[  0.         -56.37590774   0.        ]\n",
      "[  0.         -56.37590774   0.        ]\n",
      "[  0.         -56.37590774   0.        ]\n",
      "[  0.         -56.37590774   0.        ]\n",
      "[  0.         -56.37590774   0.        ]\n",
      "[  0.         -56.37590774   0.        ]\n",
      "[  0.         -56.37590774   0.        ]\n",
      "[  0.         -56.37590774   0.        ]\n",
      "[  0.         -56.37590774   0.        ]\n",
      "[  0.         -56.37590774   0.        ]\n",
      "[  0.         -56.37590774   0.        ]\n",
      "[  0.         -56.37590774   0.        ]\n",
      "[  0.         -56.37590774   0.        ]\n",
      "[  0.         -56.37590774   0.        ]\n",
      "[  0.         -56.37590774   0.        ]\n",
      "[  0.         -56.37590774   0.        ]\n",
      "[  0.         -56.37590774   0.        ]\n",
      "[  0.         -56.37590774   0.        ]\n",
      "[  0.         -56.37590774   0.        ]\n",
      "[  0.         -56.37590774   0.        ]\n",
      "[  0.         -56.37590774   0.        ]\n",
      "[  0.         -64.74463051   0.        ]\n",
      "[  0.         -73.11335327   0.        ]\n",
      "[  0.         -81.48207604   0.        ]\n",
      "[  0.        -89.8507988   0.       ]\n",
      "[  0.         -98.21952157   0.        ]\n",
      "[   0.         -106.58824433    0.        ]\n",
      "[   0.         -106.58824684    0.        ]\n",
      "[  0.         -98.29412342   0.        ]\n",
      "[  0. -90.   0.]\n",
      "[  0. -90.   0.]\n",
      "[  0.         -82.40193787   0.        ]\n",
      "[  0.         -74.80387575   0.        ]\n",
      "[  0.         -74.80387348   0.        ]\n",
      "[  0.         -74.80387348   0.        ]\n",
      "[  0.         -74.80387348   0.        ]\n",
      "[  0.         -74.80387348   0.        ]\n",
      "[  0.         -69.11941166   0.        ]\n",
      "[  0.         -63.43494983   0.        ]\n",
      "[  0.         -63.43495342   0.        ]\n",
      "[  0.         -54.06334223   0.        ]\n",
      "[  0.         -44.69173104   0.        ]\n",
      "[  0.         -35.32011985   0.        ]\n",
      "[  0.         -25.94850866   0.        ]\n",
      "[  0.         -25.94850918   0.        ]\n",
      "[  0.         -35.09872215   0.        ]\n",
      "[  0.         -44.24893513   0.        ]\n",
      "[  0.        -53.3991481   0.       ]\n",
      "[  0.         -62.54936108   0.        ]\n",
      "[  0.         -71.69957405   0.        ]\n",
      "[  0.         -80.84978703   0.        ]\n",
      "[  0. -90.   0.]\n",
      "[  0. -90.   0.]\n",
      "[  0.         -99.72514908   0.        ]\n",
      "[   0.         -109.45029816    0.        ]\n",
      "[   0.         -119.17544723    0.        ]\n",
      "[   0.         -128.90059631    0.        ]\n",
      "[   0.        -128.9005947    0.       ]\n",
      "[   0.        -128.9005947    0.       ]\n",
      "[   0.        -128.9005947    0.       ]\n",
      "[   0.        -128.9005947    0.       ]\n",
      "[   0.        -128.9005947    0.       ]\n",
      "[   0.        -128.9005947    0.       ]\n",
      "[   0.        -128.9005947    0.       ]\n",
      "[   0.        -128.9005947    0.       ]\n",
      "[   0.        -128.9005947    0.       ]\n",
      "[   0.        -128.9005947    0.       ]\n",
      "[   0.        -128.9005947    0.       ]\n",
      "[   0.        -128.9005947    0.       ]\n",
      "[   0.        -128.9005947    0.       ]\n",
      "[   0.        -128.9005947    0.       ]\n",
      "[   0.        -128.9005947    0.       ]\n",
      "[   0.         -136.85275753    0.        ]\n",
      "[   0.         -144.80492036    0.        ]\n",
      "[   0.         -152.75708319    0.        ]\n",
      "[   0.         -152.75708293    0.        ]\n",
      "[   0.         -152.75708293    0.        ]\n",
      "[   0.         -142.94951417    0.        ]\n",
      "[   0.         -133.14194541    0.        ]\n",
      "[   0.         -123.33437665    0.        ]\n",
      "[   0.         -113.52680789    0.        ]\n",
      "[   0.         -103.71923913    0.        ]\n",
      "[  0.         -93.91167037   0.        ]\n",
      "[  0.         -84.10410161   0.        ]\n",
      "[  0.         -74.29653285   0.        ]\n",
      "[  0.         -64.48896409   0.        ]\n",
      "[  0.         -54.68139533   0.        ]\n",
      "[  0.         -44.87382657   0.        ]\n",
      "[  0.         -35.06625781   0.        ]\n",
      "[  0.         -25.25868905   0.        ]\n",
      "[  0.         -15.45112028   0.        ]\n",
      "[ 0.         -5.64355152  0.        ]\n",
      "[0.         4.16401724 0.        ]\n",
      "[ 0.       13.971586  0.      ]\n",
      "[ 0.         23.77915476  0.        ]\n",
      "[ 0.         33.58672352  0.        ]\n",
      "[ 0.         43.39429228  0.        ]\n",
      "[ 0.         53.20186104  0.        ]\n",
      "[ 0.        63.0094298  0.       ]\n",
      "[ 0.         72.81699856  0.        ]\n",
      "[ 0.         82.62456732  0.        ]\n",
      "[ 0.         92.43213608  0.        ]\n",
      "[  0.         102.23970484   0.        ]\n",
      "[  0.        112.0472736   0.       ]\n",
      "[  0.         121.85484237   0.        ]\n",
      "[  0.         131.66241113   0.        ]\n",
      "[  0.         141.46997989   0.        ]\n",
      "[  0.         151.27754865   0.        ]\n",
      "[  0.         161.08511741   0.        ]\n",
      "[  0.         161.08511787   0.        ]\n",
      "[  0.         161.08511787   0.        ]\n",
      "[  0.         161.08511787   0.        ]\n",
      "[  0.         161.08511787   0.        ]\n",
      "[  0.         151.86450425   0.        ]\n",
      "[  0.         142.64389063   0.        ]\n",
      "[  0.       133.423277   0.      ]\n",
      "[  0.         124.20266338   0.        ]\n",
      "[  0.       124.202662   0.      ]\n",
      "[  0.         133.50221833   0.        ]\n",
      "[  0.         142.80177467   0.        ]\n",
      "[  0.       152.101331   0.      ]\n",
      "[  0.         161.40088733   0.        ]\n",
      "[  0.         170.70044367   0.        ]\n",
      "[  0. 180.   0.]\n",
      "[  0. 180.   0.]\n",
      "[  0. 180.   0.]\n",
      "[  0.         170.71862269   0.        ]\n",
      "[  0.         161.43724539   0.        ]\n",
      "[  0.         152.15586808   0.        ]\n",
      "[  0.         142.87449077   0.        ]\n",
      "[  0.         133.59311346   0.        ]\n",
      "[  0.         124.31173616   0.        ]\n",
      "[  0.         115.03035885   0.        ]\n",
      "[  0.         105.74898154   0.        ]\n",
      "[ 0.         96.46760424  0.        ]\n",
      "[ 0.         96.46760282  0.        ]\n",
      "[ 0.         96.46760282  0.        ]\n",
      "[ 0.         96.46760282  0.        ]\n",
      "[ 0.         96.46760282  0.        ]\n",
      "[  0.         106.10073559   0.        ]\n",
      "[  0.         115.73386836   0.        ]\n",
      "[  0.         125.36700114   0.        ]\n",
      "[  0.         135.00013391   0.        ]\n",
      "[  0.         135.00013391   0.        ]\n",
      "[  0.         143.48535053   0.        ]\n",
      "[  0.         151.97056715   0.        ]\n",
      "[  0.         160.45578377   0.        ]\n",
      "[  0.         168.94100039   0.        ]\n",
      "[  0.         177.42621701   0.        ]\n",
      "[  0.         177.42621694   0.        ]\n",
      "[  0.         177.42621694   0.        ]\n",
      "[  0.         168.04988986   0.        ]\n"
     ]
    },
    {
     "name": "stdout",
     "output_type": "stream",
     "text": [
      "[  0.         158.67356278   0.        ]\n",
      "[  0.         149.29723571   0.        ]\n",
      "[  0.         139.92090863   0.        ]\n",
      "[  0.         130.54458156   0.        ]\n",
      "[  0.         121.16825448   0.        ]\n",
      "[  0.        111.7919274   0.       ]\n",
      "[  0.         102.41560033   0.        ]\n",
      "[ 0.         93.03927325  0.        ]\n",
      "[ 0.         93.03927351  0.        ]\n",
      "[ 0.         93.03927351  0.        ]\n",
      "[ 0.         93.03927351  0.        ]\n",
      "[  0.        101.6672347   0.       ]\n",
      "[  0.         110.29519589   0.        ]\n",
      "[  0.         118.92315708   0.        ]\n",
      "[  0.         127.55111827   0.        ]\n",
      "[  0.         136.17907945   0.        ]\n",
      "[  0.         144.80704064   0.        ]\n",
      "[  0.         153.43500183   0.        ]\n",
      "[  0.         153.43500183   0.        ]\n",
      "[  0.         162.29000122   0.        ]\n",
      "[  0.         171.14500061   0.        ]\n",
      "[  0. 180.   0.]\n",
      "[  0. 180.   0.]\n",
      "[  0.         170.20354744   0.        ]\n",
      "[  0.         160.40709488   0.        ]\n",
      "[  0.         150.61064232   0.        ]\n",
      "[  0.         140.81418976   0.        ]\n",
      "[  0.         131.01773719   0.        ]\n",
      "[  0.         121.22128463   0.        ]\n",
      "[  0.         111.42483207   0.        ]\n",
      "[  0.         101.62837951   0.        ]\n",
      "[ 0.         91.83192695  0.        ]\n",
      "[ 0.         82.03547439  0.        ]\n",
      "[ 0.         72.23902183  0.        ]\n",
      "[ 0.         62.44256927  0.        ]\n",
      "[ 0.        52.6461167  0.       ]\n",
      "[ 0.         42.84966414  0.        ]\n",
      "[ 0.         33.05321158  0.        ]\n",
      "[ 0.         23.25675902  0.        ]\n",
      "[ 0.         13.46030646  0.        ]\n",
      "[0.        3.6638539 0.       ]\n",
      "[ 0.         -6.13259866  0.        ]\n",
      "[  0.         -15.92905122   0.        ]\n",
      "[  0.         -25.72550379   0.        ]\n",
      "[  0.         -35.52195635   0.        ]\n",
      "[  0.         -45.31840891   0.        ]\n",
      "[  0.         -55.11486147   0.        ]\n",
      "[  0.         -64.91131403   0.        ]\n",
      "[  0.         -74.70776659   0.        ]\n",
      "[  0.         -84.50421915   0.        ]\n",
      "[  0.         -94.30067171   0.        ]\n",
      "[   0.         -104.09712427    0.        ]\n",
      "[   0.         -113.89357684    0.        ]\n",
      "[   0.        -123.6900294    0.       ]\n",
      "[   0.        -123.6900294    0.       ]\n",
      "[   0.         -114.03857143    0.        ]\n",
      "[   0.         -104.38711347    0.        ]\n",
      "[  0.         -94.73565551   0.        ]\n",
      "[  0.         -94.73565429   0.        ]\n",
      "[  0.         -94.73565429   0.        ]\n",
      "[  0.         -94.73565429   0.        ]\n",
      "[  0.         -84.92366664   0.        ]\n",
      "[  0.         -75.11167898   0.        ]\n",
      "[  0.         -65.29969133   0.        ]\n",
      "[  0.         -55.48770368   0.        ]\n",
      "[  0.         -45.67571602   0.        ]\n",
      "[  0.         -35.86372837   0.        ]\n",
      "[  0.         -26.05174072   0.        ]\n",
      "[  0.         -16.23975306   0.        ]\n",
      "[ 0.         -6.42776541  0.        ]\n",
      "[0.         3.38422224 0.        ]\n",
      "[ 0.        13.1962099  0.       ]\n",
      "[ 0.         23.00819755  0.        ]\n",
      "[ 0.        32.8201852  0.       ]\n",
      "[ 0.         42.63217286  0.        ]\n",
      "[ 0.         52.44416051  0.        ]\n",
      "[ 0.         62.25614816  0.        ]\n",
      "[ 0.         72.06813582  0.        ]\n",
      "[ 0.         81.88012347  0.        ]\n",
      "[ 0.         91.69211112  0.        ]\n",
      "[  0.         101.50409877   0.        ]\n",
      "[  0.         111.31608643   0.        ]\n",
      "[  0.         121.12807408   0.        ]\n",
      "[  0.         130.94006173   0.        ]\n",
      "[  0.         140.75204939   0.        ]\n",
      "[  0.         150.56403704   0.        ]\n",
      "[  0.         160.37602469   0.        ]\n",
      "[  0.         170.18801235   0.        ]\n",
      "[  0. 180.   0.]\n",
      "[  0. 180.   0.]\n",
      "[  0. 180.   0.]\n",
      "[  0.         170.35714286   0.        ]\n",
      "[  0.         160.71428571   0.        ]\n",
      "[  0.         151.07142857   0.        ]\n",
      "[  0.         141.42857143   0.        ]\n",
      "[  0.         131.78571429   0.        ]\n",
      "[  0.         122.14285714   0.        ]\n",
      "[  0.  112.5   0. ]\n",
      "[  0.         102.85714286   0.        ]\n",
      "[ 0.         93.21428571  0.        ]\n",
      "[ 0.         83.57142857  0.        ]\n",
      "[ 0.         73.92857143  0.        ]\n",
      "[ 0.         64.28571429  0.        ]\n",
      "[ 0.         54.64285714  0.        ]\n",
      "[ 0. 45.  0.]\n",
      "[ 0.         35.35714286  0.        ]\n",
      "[ 0.         25.71428571  0.        ]\n",
      "[ 0.         16.07142857  0.        ]\n",
      "[0.         6.42857143 0.        ]\n",
      "[ 0.         -3.21428571  0.        ]\n",
      "[  0.         -12.85714286   0.        ]\n",
      "[  0.  -22.5   0. ]\n",
      "[  0.         -32.14285714   0.        ]\n",
      "[  0.         -41.78571429   0.        ]\n",
      "[  0.         -51.42857143   0.        ]\n",
      "[  0.         -61.07142857   0.        ]\n",
      "[  0.         -70.71428571   0.        ]\n",
      "[  0.         -80.35714286   0.        ]\n",
      "[  0. -90.   0.]\n",
      "[  0. -90.   0.]\n",
      "[  0. -90.   0.]\n",
      "[  0. -90.   0.]\n",
      "[  0. -90.   0.]\n",
      "[  0. -90.   0.]\n",
      "[  0.         -80.94604644   0.        ]\n",
      "[  0.         -71.89209288   0.        ]\n",
      "[  0.         -62.83813931   0.        ]\n",
      "[  0.         -53.78418575   0.        ]\n",
      "[  0.         -44.73023219   0.        ]\n",
      "[  0.         -35.67627863   0.        ]\n",
      "[  0.         -26.62232507   0.        ]\n",
      "[  0.         -26.62232507   0.        ]\n",
      "[  0.         -26.62232507   0.        ]\n",
      "[  0.        -36.4683421   0.       ]\n",
      "[  0.         -46.31435914   0.        ]\n",
      "[  0.         -56.16037617   0.        ]\n",
      "[  0.        -66.0063932   0.       ]\n",
      "[  0.         -75.85241024   0.        ]\n",
      "[  0.         -85.69842727   0.        ]\n",
      "[  0.        -95.5444443   0.       ]\n",
      "[   0.         -105.39046134    0.        ]\n",
      "[   0.         -115.23647837    0.        ]\n",
      "[   0.        -125.0824954    0.       ]\n",
      "[   0.         -134.92851244    0.        ]\n",
      "[   0.         -134.92851244    0.        ]\n",
      "[   0.         -134.92851244    0.        ]\n",
      "[   0.         -134.92851244    0.        ]\n",
      "[   0.         -125.01992107    0.        ]\n",
      "[   0.        -115.1113297    0.       ]\n",
      "[   0.         -105.20273833    0.        ]\n",
      "[  0.         -95.29414696   0.        ]\n",
      "[  0.        -85.3855556   0.       ]\n",
      "[  0.         -75.47696423   0.        ]\n",
      "[  0.         -65.56837286   0.        ]\n",
      "[  0.         -55.65978149   0.        ]\n",
      "[  0.         -45.75119012   0.        ]\n",
      "[  0.         -35.84259875   0.        ]\n",
      "[  0.         -25.93400739   0.        ]\n",
      "[  0.         -16.02541602   0.        ]\n",
      "[ 0.         -6.11682465  0.        ]\n",
      "[0.         3.79176672 0.        ]\n",
      "[ 0.         13.70035809  0.        ]\n",
      "[ 0.         23.60894945  0.        ]\n",
      "[ 0.         33.51754082  0.        ]\n",
      "[ 0.         43.42613219  0.        ]\n",
      "[ 0.         53.33472356  0.        ]\n",
      "[ 0.         63.24331493  0.        ]\n",
      "[ 0.        73.1519063  0.       ]\n",
      "[ 0.         83.06049766  0.        ]\n",
      "[ 0.         92.96908903  0.        ]\n",
      "[ 0.         92.96908872  0.        ]\n",
      "[ 0.         92.96908872  0.        ]\n",
      "[ 0.         92.96908872  0.        ]\n",
      "[ 0.         92.96908872  0.        ]\n",
      "[ 0.         92.96908872  0.        ]\n",
      "[ 0.         92.96908872  0.        ]\n",
      "[ 0.         92.96908872  0.        ]\n",
      "[ 0.         92.96908872  0.        ]\n",
      "[ 0.         92.96908872  0.        ]\n",
      "[ 0.         92.96908872  0.        ]\n",
      "[ 0.         92.96908872  0.        ]\n",
      "[ 0.         92.96908872  0.        ]\n",
      "[ 0.         92.96908872  0.        ]\n",
      "[ 0.         92.96908872  0.        ]\n",
      "[ 0.         92.96908872  0.        ]\n",
      "[ 0.         92.96908872  0.        ]\n",
      "[ 0.         92.96908872  0.        ]\n",
      "[ 0.         92.96908872  0.        ]\n",
      "[ 0.         92.96908872  0.        ]\n",
      "[ 0.         92.96908872  0.        ]\n",
      "[ 0.         92.96908872  0.        ]\n",
      "[ 0.         92.96908872  0.        ]\n",
      "[ 0.         92.96908872  0.        ]\n",
      "[ 0.         92.96908872  0.        ]\n",
      "[  0.        102.5288059   0.       ]\n",
      "[  0.        102.5288059   0.       ]\n",
      "[  0.         112.36818003   0.        ]\n",
      "[  0.         122.20755415   0.        ]\n",
      "[  0.         132.04692828   0.        ]\n",
      "[  0.         141.88630241   0.        ]\n",
      "[  0.         151.72567653   0.        ]\n",
      "[  0.         161.56505066   0.        ]\n",
      "[  0.         161.56504957   0.        ]\n",
      "[  0.         151.79391179   0.        ]\n",
      "[  0.         142.02277402   0.        ]\n",
      "[  0.         132.25163624   0.        ]\n",
      "[  0.         122.48049847   0.        ]\n",
      "[  0.         112.70936069   0.        ]\n",
      "[  0.         102.93822292   0.        ]\n",
      "[ 0.         93.16708514  0.        ]\n",
      "[ 0.         83.39594737  0.        ]\n",
      "[ 0.         73.62480959  0.        ]\n",
      "[ 0.         63.85367182  0.        ]\n",
      "[ 0.         54.08253405  0.        ]\n",
      "[ 0.         44.31139627  0.        ]\n",
      "[ 0.        34.5402585  0.       ]\n",
      "[ 0.         24.76912072  0.        ]\n",
      "[ 0.         14.99798295  0.        ]\n",
      "[0.         5.22684517 0.        ]\n",
      "[ 0.        -4.5442926  0.       ]\n",
      "[  0.         -14.31543038   0.        ]\n",
      "[  0.         -24.08656815   0.        ]\n",
      "[  0.         -33.85770593   0.        ]\n",
      "[  0.        -43.6288437   0.       ]\n",
      "[  0.         -53.39998148   0.        ]\n",
      "[  0.         -63.17111925   0.        ]\n",
      "[  0.         -72.94225703   0.        ]\n",
      "[  0.        -82.7133948   0.       ]\n",
      "[  0.         -92.48453257   0.        ]\n",
      "[   0.         -102.25567035    0.        ]\n",
      "[   0.         -112.02680812    0.        ]\n",
      "[   0.        -121.7979459    0.       ]\n",
      "[   0.         -131.56908367    0.        ]\n",
      "[   0.         -141.34022145    0.        ]\n",
      "[   0.         -141.34022145    0.        ]\n",
      "[   0.        -131.6727976    0.       ]\n",
      "[   0.         -122.00537375    0.        ]\n",
      "[   0.         -122.00537375    0.        ]\n",
      "[   0.        -114.7654784    0.       ]\n",
      "[   0.         -107.52558305    0.        ]\n",
      "[   0.         -107.52558305    0.        ]\n",
      "[   0.         -107.52558305    0.        ]\n",
      "[   0.         -107.52558305    0.        ]\n",
      "[   0.         -107.52558305    0.        ]\n",
      "[   0.         -100.01198581    0.        ]\n",
      "[  0.         -92.49838858   0.        ]\n",
      "[  0.         -84.98479134   0.        ]\n",
      "[  0.        -77.4711941   0.       ]\n",
      "[  0.        -77.4711941   0.       ]\n",
      "[  0.         -73.22301152   0.        ]\n",
      "[  0.         -73.22301186   0.        ]\n",
      "[  0.         -73.22301186   0.        ]\n",
      "[  0.         -73.22301186   0.        ]\n",
      "[  0.         -63.48366525   0.        ]\n",
      "[  0.         -53.74431864   0.        ]\n",
      "[  0.         -44.00497203   0.        ]\n",
      "[  0.         -34.26562542   0.        ]\n",
      "[  0.         -24.52627881   0.        ]\n",
      "[  0.        -14.7869322   0.       ]\n",
      "[ 0.         -5.04758559  0.        ]\n",
      "[0.         4.69176102 0.        ]\n",
      "[ 0.         14.43110763  0.        ]\n",
      "[ 0.         24.17045424  0.        ]\n",
      "[ 0.         33.90980085  0.        ]\n",
      "[ 0.         43.64914746  0.        ]\n",
      "[ 0.         53.38849407  0.        ]\n",
      "[ 0.         63.12784068  0.        ]\n",
      "[ 0.         72.86718729  0.        ]\n",
      "[ 0.        82.6065339  0.       ]\n",
      "[ 0.         92.34588051  0.        ]\n",
      "[  0.         102.08522712   0.        ]\n",
      "[  0.         111.82457373   0.        ]\n",
      "[  0.         121.56392034   0.        ]\n",
      "[  0.         131.30326695   0.        ]\n",
      "[  0.         141.04261356   0.        ]\n",
      "[  0.         150.78196017   0.        ]\n",
      "[  0.         160.52130678   0.        ]\n",
      "[  0.         170.26065339   0.        ]\n"
     ]
    },
    {
     "name": "stdout",
     "output_type": "stream",
     "text": [
      "[  0. 180.   0.]\n",
      "[  0. 180.   0.]\n",
      "[  0. 180.   0.]\n"
     ]
    },
    {
     "data": {
      "text/plain": [
       "(577, 3)"
      ]
     },
     "execution_count": 304,
     "metadata": {},
     "output_type": "execute_result"
    }
   ],
   "source": [
    "agent_path = []\n",
    "lcam_path = []\n",
    "rcam_path = []\n",
    "\n",
    "left_cam = np.array([-0.1,1,0,1])\n",
    "right_cam = np.array([0.1,1,0,1])\n",
    "\n",
    "pose_files = sorted(os.listdir(os.path.join(scene_dir, 'pose')), key=lambda x: int(os.path.splitext(x)[0]))\n",
    "path_len = 47 #len(pose_files)\n",
    "\n",
    "for filename in pose_files[0:path_len]:\n",
    "    pose = np.load(os.path.join(scene_dir, 'pose', filename), allow_pickle=True).item()\n",
    "    position = pose['position']\n",
    "    agent_path.append(position)\n",
    "    \n",
    "    rot = Rotation.from_quat([pose['rotation'].x, pose['rotation'].y, pose['rotation'].z, pose['rotation'].w])\n",
    "    R = np.eye(4)\n",
    "    R[:3, :3] = rot.as_matrix()\n",
    "    print(np.rad2deg(rot.as_rotvec()))\n",
    "\n",
    "    T = np.eye(4)\n",
    "    T[:3, 3] = position\n",
    "#     T[2,2] = -1\n",
    "    \n",
    "    M = (T @ R)[:3, :]\n",
    "    lcam_path.append(M @ left_cam)\n",
    "    rcam_path.append(M @ right_cam)\n",
    "    \n",
    "agent_path = np.array(agent_path)\n",
    "lcam_path = np.array(lcam_path)\n",
    "rcam_path = np.array(rcam_path)\n",
    "agent_path.shape"
   ]
  },
  {
   "cell_type": "code",
   "execution_count": 305,
   "id": "eb647aa0",
   "metadata": {},
   "outputs": [
    {
     "data": {
      "text/plain": [
       "<matplotlib.legend.Legend at 0x7ff94ca95898>"
      ]
     },
     "execution_count": 305,
     "metadata": {},
     "output_type": "execute_result"
    },
    {
     "data": {
      "image/png": "[encoded data removed]",
      "text/plain": [
       "<Figure size 432x288 with 1 Axes>"
      ]
     },
     "metadata": {
      "needs_background": "light"
     },
     "output_type": "display_data"
    }
   ],
   "source": [
    "plt.plot(agent_path[:, 0], agent_path[:, 2], label='agent')\n",
    "plt.plot(lcam_path[:, 0], lcam_path[:, 2], label='left_cam')\n",
    "plt.plot(rcam_path[:, 0], rcam_path[:, 2], label='right_cam')\n",
    "plt.gca().set_aspect('equal')\n",
    "plt.legend()"
   ]
  },
  {
   "cell_type": "code",
   "execution_count": 306,
   "id": "2af78ede",
   "metadata": {},
   "outputs": [],
   "source": [
    "def camera_intrinsic_transform(f_x, c_x, f_y, c_y):\n",
    "    camera_intrinsics = np.zeros((3,4))\n",
    "    camera_intrinsics[0][0] = f_x\n",
    "    camera_intrinsics[1][1] = f_y\n",
    "    camera_intrinsics[2][2] = 1\n",
    "    camera_intrinsics[0][2] = c_x\n",
    "    camera_intrinsics[1][2] = c_y\n",
    "    \n",
    "    return camera_intrinsics\n",
    "\n",
    "def img_to_rect( u, v, depth_rect, P2):\n",
    "    \n",
    "    cu = P2[0, 2]\n",
    "    cv = P2[1, 2]\n",
    "    fu = P2[0, 0]\n",
    "    fv = P2[1, 1]\n",
    "\n",
    "    x = ((u - cu) * depth_rect) / fu\n",
    "    y = ((v - cv) * depth_rect) / fv\n",
    "    pts_rect = np.concatenate((x.reshape(-1, 1), y.reshape(-1, 1), depth_rect.reshape(-1, 1)), axis=1)\n",
    "    return pts_rect\n",
    "\n",
    "def img_to_lid(depth_map, cam_mat, label=None):\n",
    "\n",
    "    x_range = np.arange(0, depth_map.shape[1])\n",
    "    y_range = np.arange(0, depth_map.shape[0])\n",
    "    x_idxs, y_idxs = np.meshgrid(x_range, y_range)\n",
    "    x_idxs, y_idxs = x_idxs.reshape(-1), y_idxs.reshape(-1)\n",
    "\n",
    "    depth = depth_map[y_idxs, x_idxs]\n",
    "    pts_rect = img_to_rect(x_idxs, y_idxs, depth, cam_mat)\n",
    "    \n",
    "    \n",
    "    if label is not None:\n",
    "        label_intensity = label[y_idxs, x_idxs]\n",
    "        filt = label_intensity == 2\n",
    "        pts_rect = pts_rect[filt]\n",
    "\n",
    "    return pts_rect"
   ]
  },
  {
   "cell_type": "code",
   "execution_count": 307,
   "id": "8f98eec1",
   "metadata": {},
   "outputs": [],
   "source": [
    "def get_pcd(scene_dir, fileidx, side='l', fliplr=False):\n",
    "    if side=='l':\n",
    "        side = 'left'\n",
    "    else:\n",
    "        side = 'right'\n",
    "        \n",
    "    depth = cv2.imread(os.path.join(scene_dir, f'{side}_depth', f'{fileidx}.png'), -1).astype(np.float32)/6553.5\n",
    "    \n",
    "    if fliplr:\n",
    "        depth = np.fliplr(depth)\n",
    "\n",
    "    camera_intrinsics = camera_intrinsic_transform(320, 320, 320, 240)\n",
    "    pc = img_to_lid(depth, camera_intrinsics)\n",
    "    \n",
    "    M = np.array([[1,0,0], [0,-1,0], [0,0,-1]]) # To flip y-axis up and z-axis to follow right hande rule.\n",
    "        \n",
    "    pc = (M @ pc.T).T\n",
    "\n",
    "    rgb = cv2.imread(os.path.join(scene_dir,  f'{side}_rgb', f'{fileidx}.jpg'), -1)\n",
    "    if fliplr:\n",
    "        rgb = np.fliplr(rgb)\n",
    "        \n",
    "    colors = rgb.reshape((-1,3)).astype(np.float32)/255\n",
    "\n",
    "    pcd = o3d.geometry.PointCloud()\n",
    "    pcd.points = o3d.utility.Vector3dVector(pc)\n",
    "    pcd.colors = o3d.utility.Vector3dVector(colors)\n",
    "    \n",
    "    return pcd"
   ]
  },
  {
   "cell_type": "code",
   "execution_count": 308,
   "id": "10520ce7",
   "metadata": {},
   "outputs": [],
   "source": [
    "def get_transform(scene_dir, fileidx):\n",
    "    pose = np.load(os.path.join(scene_dir, 'pose', f'{fileidx}.npy'), allow_pickle=True).item()\n",
    "    position = pose['position']\n",
    "    \n",
    "    rot = Rotation.from_quat([pose['rotation'].x, pose['rotation'].y, pose['rotation'].z, pose['rotation'].w])\n",
    "    R = np.eye(4)\n",
    "    R[:3, :3] = rot.as_matrix()\n",
    "\n",
    "    T = np.eye(4)\n",
    "    T[:3, 3] = position\n",
    "    \n",
    "    M = (T @ R)\n",
    "    \n",
    "    return M"
   ]
  },
  {
   "cell_type": "markdown",
   "id": "63abb692",
   "metadata": {},
   "source": [
    "# Spatial Stereo registration test"
   ]
  },
  {
   "cell_type": "code",
   "execution_count": 14,
   "id": "514e66db",
   "metadata": {},
   "outputs": [
    {
     "data": {
      "application/vnd.jupyter.widget-view+json": {
       "model_id": "",
       "version_major": 2,
       "version_minor": 0
      },
      "text/plain": [
       "JVisualizer with 2 geometries"
      ]
     },
     "metadata": {},
     "output_type": "display_data"
    }
   ],
   "source": [
    "fliplr = True\n",
    "fileidx = os.path.splitext(pose_files[100])[0]\n",
    "lpcd = get_pcd(scene_dir, fileidx, fliplr=fliplr)\n",
    "rpcd = get_pcd(scene_dir, fileidx, 'r', fliplr=fliplr)\n",
    "\n",
    "M = np.array([[1, 0, 0, 0.2], [0, 1, 0, 0], [0, 0, 1, 0], [0, 0, 0, 1]])\n",
    "if fliplr:\n",
    "    M[0,-1] *= -1\n",
    "rpcd = rpcd.transform(M)\n",
    "\n",
    "visualizer = JVisualizer()\n",
    "visualizer.add_geometry(lpcd)\n",
    "visualizer.add_geometry(rpcd)\n",
    "\n",
    "visualizer.show()"
   ]
  },
  {
   "cell_type": "code",
   "execution_count": 15,
   "id": "e04fad1b",
   "metadata": {},
   "outputs": [],
   "source": [
    "visualizer.close_all()\n",
    "del lpcd, rpcd"
   ]
  },
  {
   "cell_type": "markdown",
   "id": "c6ab0424",
   "metadata": {},
   "source": [
    "# Temporal Stereo registration test"
   ]
  },
  {
   "cell_type": "code",
   "execution_count": 309,
   "id": "6fc93f0d",
   "metadata": {},
   "outputs": [
    {
     "data": {
      "text/plain": [
       "<matplotlib.legend.Legend at 0x7ff95633bd30>"
      ]
     },
     "execution_count": 309,
     "metadata": {},
     "output_type": "execute_result"
    },
    {
     "data": {
      "image/png": "[encoded data removed]",
      "text/plain": [
       "<Figure size 432x288 with 1 Axes>"
      ]
     },
     "metadata": {
      "needs_background": "light"
     },
     "output_type": "display_data"
    }
   ],
   "source": [
    "idx_1 = 100\n",
    "idx_2 = 110\n",
    "plt.plot(agent_path[idx_1:idx_2+1, 0], agent_path[idx_1:idx_2+1, 2], label='agent')\n",
    "plt.plot(lcam_path[idx_1:idx_2+1, 0], lcam_path[idx_1:idx_2+1, 2], label='left_cam')\n",
    "plt.plot(rcam_path[idx_1:idx_2+1, 0], rcam_path[idx_1:idx_2+1, 2], label='right_cam')\n",
    "plt.gca().set_aspect('equal')\n",
    "plt.legend()"
   ]
  },
  {
   "cell_type": "code",
   "execution_count": 310,
   "id": "1cb1a48e",
   "metadata": {},
   "outputs": [
    {
     "data": {
      "application/vnd.jupyter.widget-view+json": {
       "model_id": "",
       "version_major": 2,
       "version_minor": 0
      },
      "text/plain": [
       "JVisualizer with 2 geometries"
      ]
     },
     "metadata": {},
     "output_type": "display_data"
    }
   ],
   "source": [
    "fliplr = True\n",
    "pcd1 = get_pcd(scene_dir, idx_1, fliplr=fliplr)\n",
    "pcd2 = get_pcd(scene_dir, idx_2, fliplr=fliplr)\n",
    "\n",
    "M_1 = get_transform(scene_dir, idx_1)\n",
    "M_2 = get_transform(scene_dir, idx_2)\n",
    "\n",
    "if fliplr:\n",
    "    M_1[0,3] *= (1 - 2*fliplr)\n",
    "    M_2[0,3] *= (1 - 2*fliplr)\n",
    "    \n",
    "M_1_2 = np.linalg.inv(M_1) @ M_2  # To convert from frame 2 to 1.\n",
    "pcd2 = pcd2.transform(M_1_2)\n",
    "\n",
    "visualizer = JVisualizer()\n",
    "visualizer.add_geometry(pcd1)\n",
    "visualizer.add_geometry(pcd2)\n",
    "\n",
    "visualizer.show()"
   ]
  },
  {
   "cell_type": "code",
   "execution_count": 311,
   "id": "c6d08d25",
   "metadata": {},
   "outputs": [],
   "source": [
    "visualizer.close_all()\n",
    "del pcd1, pcd2"
   ]
  },
  {
   "cell_type": "markdown",
   "id": "177d793c",
   "metadata": {},
   "source": [
    "# Test - Fliplr makes change for relative pose transform for temporal case"
   ]
  },
  {
   "cell_type": "code",
   "execution_count": 229,
   "id": "d838ed80",
   "metadata": {},
   "outputs": [],
   "source": [
    "M1 = np.array([[1, 0, 0, 2], [0, 1, 0, 0], [0, 0, 1, 0], [0, 0, 0, 1]])\n",
    "M2 = np.array([[1, 0, 0, -2], [0, 1, 0, 0], [0, 0, 1, 0], [0, 0, 0, 1]])"
   ]
  },
  {
   "cell_type": "code",
   "execution_count": 230,
   "id": "47e6aa66",
   "metadata": {},
   "outputs": [
    {
     "data": {
      "text/plain": [
       "array([0.2, 0.4, 0. , 1. ])"
      ]
     },
     "execution_count": 230,
     "metadata": {},
     "output_type": "execute_result"
    }
   ],
   "source": [
    "A1 = np.array([0.2, 0.4, 0, 1])  # A point in frame M2 \n",
    "A1"
   ]
  },
  {
   "cell_type": "code",
   "execution_count": 231,
   "id": "ddc59df3",
   "metadata": {},
   "outputs": [
    {
     "data": {
      "text/plain": [
       "array([-3.8,  0.4,  0. ,  1. ])"
      ]
     },
     "execution_count": 231,
     "metadata": {},
     "output_type": "execute_result"
    }
   ],
   "source": [
    "A2 = np.array([-3.8, 0.4, 0, 1]) # Same point in frame M1\n",
    "A2"
   ]
  },
  {
   "cell_type": "code",
   "execution_count": 232,
   "id": "b3a903fd",
   "metadata": {},
   "outputs": [
    {
     "data": {
      "text/plain": [
       "array([-3.8,  0.4,  0. ,  1. ])"
      ]
     },
     "execution_count": 232,
     "metadata": {},
     "output_type": "execute_result"
    }
   ],
   "source": [
    "C = np.linalg.inv(M1) @ (M2 @ A1)\n",
    "C"
   ]
  },
  {
   "cell_type": "code",
   "execution_count": 233,
   "id": "7d460d72",
   "metadata": {},
   "outputs": [
    {
     "data": {
      "text/plain": [
       "array([ True,  True,  True,  True])"
      ]
     },
     "execution_count": 233,
     "metadata": {},
     "output_type": "execute_result"
    }
   ],
   "source": [
    "np.isclose(C, A2)"
   ]
  },
  {
   "cell_type": "code",
   "execution_count": 234,
   "id": "4b926619",
   "metadata": {},
   "outputs": [
    {
     "data": {
      "text/plain": [
       "(array([-0.2,  0.4,  0. ,  1. ]), array([3.8, 0.4, 0. , 1. ]))"
      ]
     },
     "execution_count": 234,
     "metadata": {},
     "output_type": "execute_result"
    }
   ],
   "source": [
    "fliplr = True\n",
    "\n",
    "if fliplr:\n",
    "    A1 = A1 * np.array([-1, 1, 1, 1])\n",
    "    A2 = A2 * np.array([-1, 1, 1, 1])\n",
    "    \n",
    "A1, A2"
   ]
  },
  {
   "cell_type": "code",
   "execution_count": 235,
   "id": "70c09895",
   "metadata": {},
   "outputs": [
    {
     "data": {
      "text/plain": [
       "array([-4.2,  0.4,  0. ,  1. ])"
      ]
     },
     "execution_count": 235,
     "metadata": {},
     "output_type": "execute_result"
    }
   ],
   "source": [
    "D = np.linalg.inv(M1) @ (M2 @ A1)\n",
    "D"
   ]
  },
  {
   "cell_type": "code",
   "execution_count": 236,
   "id": "ef567c1d",
   "metadata": {},
   "outputs": [
    {
     "data": {
      "text/plain": [
       "array([False,  True,  True,  True])"
      ]
     },
     "execution_count": 236,
     "metadata": {},
     "output_type": "execute_result"
    }
   ],
   "source": [
    "np.isclose(C, D)"
   ]
  },
  {
   "cell_type": "code",
   "execution_count": 237,
   "id": "8147d026",
   "metadata": {},
   "outputs": [
    {
     "data": {
      "text/plain": [
       "array([-4.2,  0.4,  0. ,  1. ])"
      ]
     },
     "execution_count": 237,
     "metadata": {},
     "output_type": "execute_result"
    }
   ],
   "source": [
    "# Using a matrix to flip the entire transformed point cloud fails.\n",
    "# Its because the point-cloud is already flipped locally about its own center and this reverses that.\n",
    "\n",
    "CM = np.array([[1 - 2*fliplr, 0, 0, 0], [0, 1, 0, 0], [0, 0, 1, 0], [0, 0, 0, 1]])\n",
    "E = np.linalg.inv(CM@ M1) @ (CM @ M2 @ A1)\n",
    "E"
   ]
  },
  {
   "cell_type": "code",
   "execution_count": 238,
   "id": "511e0289",
   "metadata": {},
   "outputs": [
    {
     "data": {
      "text/plain": [
       "array([False,  True,  True,  True])"
      ]
     },
     "execution_count": 238,
     "metadata": {},
     "output_type": "execute_result"
    }
   ],
   "source": [
    "np.isclose(E, A2)"
   ]
  },
  {
   "cell_type": "code",
   "execution_count": 239,
   "id": "6e3152be",
   "metadata": {},
   "outputs": [
    {
     "data": {
      "text/plain": [
       "(array([[ 1,  0,  0, -2],\n",
       "        [ 0,  1,  0,  0],\n",
       "        [ 0,  0,  1,  0],\n",
       "        [ 0,  0,  0,  1]]),\n",
       " array([[1, 0, 0, 2],\n",
       "        [0, 1, 0, 0],\n",
       "        [0, 0, 1, 0],\n",
       "        [0, 0, 0, 1]]))"
      ]
     },
     "execution_count": 239,
     "metadata": {},
     "output_type": "execute_result"
    }
   ],
   "source": [
    "# We just need to flip the x-coordinate of the camera's world pose.\n",
    "M1[0,3] *= (1 - 2*fliplr)\n",
    "M2[0,3] *= (1 - 2*fliplr)\n",
    "\n",
    "M1, M2"
   ]
  },
  {
   "cell_type": "code",
   "execution_count": 240,
   "id": "1dc62260",
   "metadata": {},
   "outputs": [
    {
     "data": {
      "text/plain": [
       "array([3.8, 0.4, 0. , 1. ])"
      ]
     },
     "execution_count": 240,
     "metadata": {},
     "output_type": "execute_result"
    }
   ],
   "source": [
    "F = np.linalg.inv(M1) @ (M2 @ A1)\n",
    "F"
   ]
  },
  {
   "cell_type": "code",
   "execution_count": 241,
   "id": "09e382ff",
   "metadata": {},
   "outputs": [
    {
     "data": {
      "text/plain": [
       "array([ True,  True,  True,  True])"
      ]
     },
     "execution_count": 241,
     "metadata": {},
     "output_type": "execute_result"
    }
   ],
   "source": [
    "np.isclose(F, A2)"
   ]
  },
  {
   "cell_type": "code",
   "execution_count": null,
   "id": "c427aa2c",
   "metadata": {},
   "outputs": [],
   "source": []
  }
 ],
 "metadata": {
  "kernelspec": {
   "display_name": "Python 3 (ipykernel)",
   "language": "python",
   "name": "python3"
  },
  "language_info": {
   "codemirror_mode": {
    "name": "ipython",
    "version": 3
   },
   "file_extension": ".py",
   "mimetype": "text/x-python",
   "name": "python",
   "nbconvert_exporter": "python",
   "pygments_lexer": "ipython3",
   "version": "3.7.10"
  }
 },
 "nbformat": 4,
 "nbformat_minor": 5
}
