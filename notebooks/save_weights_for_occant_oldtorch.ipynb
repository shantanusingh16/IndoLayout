{
 "cells": [
  {
   "cell_type": "code",
   "execution_count": 2,
   "id": "90eece04",
   "metadata": {},
   "outputs": [],
   "source": [
    "import torch\n",
    "import os"
   ]
  },
  {
   "cell_type": "code",
   "execution_count": 3,
   "id": "7951db25",
   "metadata": {},
   "outputs": [
    {
     "data": {
      "text/plain": [
       "['weights_95']"
      ]
     },
     "execution_count": 3,
     "metadata": {},
     "output_type": "execute_result"
    }
   ],
   "source": [
    "model_dir = '/scratch/shantanu/final_models/gibson4/occant_rgbd/models'\n",
    "os.listdir(model_dir)"
   ]
  },
  {
   "cell_type": "code",
   "execution_count": 4,
   "id": "0f293990",
   "metadata": {},
   "outputs": [],
   "source": [
    "outdir = os.path.join(model_dir, 'torch_old')\n",
    "\n",
    "for folder in os.listdir(model_dir):\n",
    "    if 'weights_95' in folder:\n",
    "        for pth_path in os.listdir(os.path.join(model_dir, folder)):\n",
    "            w = torch.load(os.path.join(model_dir, folder, pth_path))\n",
    "            outpath = os.path.join(outdir, folder, pth_path)\n",
    "            os.makedirs(os.path.dirname(outpath), exist_ok=True)\n",
    "\n",
    "            torch.save(w, outpath, _use_new_zipfile_serialization=False)"
   ]
  },
  {
   "cell_type": "code",
   "execution_count": null,
   "id": "eabac376",
   "metadata": {},
   "outputs": [],
   "source": []
  }
 ],
 "metadata": {
  "kernelspec": {
   "display_name": "IPython (py37)",
   "language": "python",
   "name": "py37"
  },
  "language_info": {
   "codemirror_mode": {
    "name": "ipython",
    "version": 3
   },
   "file_extension": ".py",
   "mimetype": "text/x-python",
   "name": "python",
   "nbconvert_exporter": "python",
   "pygments_lexer": "ipython3",
   "version": "3.7.10"
  }
 },
 "nbformat": 4,
 "nbformat_minor": 5
}
